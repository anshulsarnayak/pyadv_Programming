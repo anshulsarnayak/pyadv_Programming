{
 "cells": [
  {
   "cell_type": "code",
   "execution_count": 50,
   "id": "9f2dd787",
   "metadata": {},
   "outputs": [
    {
     "data": {
      "text/plain": [
       "['b', 'g', 'w']"
      ]
     },
     "execution_count": 50,
     "metadata": {},
     "output_type": "execute_result"
    }
   ],
   "source": [
    "\"\"\"\n",
    "1. Create a function that takes a list and string. The function should remove the letters in the string from the list, and\n",
    "return the list.\n",
    "Examples\n",
    "remove_letters([\"s\", \"t\", \"r\", \"i\", \"n\", \"g\", \"w\"], \"string\") ➞ [\"w\"]\n",
    "remove_letters([\"b\", \"b\", \"l\", \"l\", \"g\", \"n\", \"o\", \"a\", \"w\"], \"balloon\") ➞ [\"b\", \"g\", \"w\"]\n",
    "remove_letters([\"d\", \"b\", \"t\", \"e\", \"a\", \"i\"], \"edabit\") ➞ []\n",
    "\"\"\"\n",
    "def remove_letters(l,s):\n",
    "    a=[]\n",
    "    for i in l:\n",
    "        if i not in s or l.count(i)>s.count(i):\n",
    "            a.append(i)\n",
    "    return sorted(list(set(a)))\n",
    "\n",
    "remove_letters([\"b\", \"b\", \"l\", \"l\", \"g\", \"n\", \"o\", \"a\", \"w\"], \"balloon\")"
   ]
  },
  {
   "cell_type": "code",
   "execution_count": 3,
   "id": "8c2fdff8",
   "metadata": {},
   "outputs": [
    {
     "data": {
      "text/plain": [
       "39"
      ]
     },
     "execution_count": 3,
     "metadata": {},
     "output_type": "execute_result"
    }
   ],
   "source": [
    "\"\"\"2. A block sequence in three dimensions. We can write a formula for this one:\n",
    "Create a function that takes a number (step) as an argument and returns the amount of blocks in that step.\n",
    "Examples\n",
    "blocks(1) ➞ 5\n",
    "blocks(5) ➞ 39\n",
    "blocks(2) ➞ 12\n",
    "\"\"\"\n",
    "def block(n):\n",
    "    if n==1:\n",
    "        return 5\n",
    "    else:\n",
    "        return 5+n+block(n-1)\n",
    "block(5)"
   ]
  },
  {
   "cell_type": "code",
   "execution_count": 10,
   "id": "b59d07ce",
   "metadata": {},
   "outputs": [
    {
     "data": {
      "text/plain": [
       "20"
      ]
     },
     "execution_count": 10,
     "metadata": {},
     "output_type": "execute_result"
    }
   ],
   "source": [
    "\"\"\"\n",
    "3. Create a function that subtracts one positive integer from another,\n",
    "without using any arithmetic operators such as -, %, /, +, etc.\n",
    "Examples\n",
    "my_sub(5, 9) ➞ 4\n",
    "my_sub(10, 30) ➞ 20\n",
    "my_sub(0, 0) ➞ 0\n",
    "\"\"\"\n",
    "def my_sub(a,b):\n",
    "    l=[]\n",
    "    for i in range(min(a,b),max(a,b)):\n",
    "        l.append(i)\n",
    "    return len(l)\n",
    "my_sub(10, 30)"
   ]
  },
  {
   "cell_type": "code",
   "execution_count": 26,
   "id": "d6ccec1a",
   "metadata": {},
   "outputs": [
    {
     "data": {
      "text/plain": [
       "2200"
      ]
     },
     "execution_count": 26,
     "metadata": {},
     "output_type": "execute_result"
    }
   ],
   "source": [
    "\"\"\"4. Create a function that takes a string containing money in dollars and pounds sterling (seperated by comma) and\n",
    "returns the sum of dollar bills only, as an integer.\n",
    "For the input string:\n",
    "   - Each amount is prefixed by the currency symbol: $ for dollars and £ for pounds.\n",
    "   - Thousands are represented by the suffix k.\n",
    "i.e. $4k = $4,000 and £40k = £40,000\n",
    "Examples\n",
    "add_bill(\"d20,p40,p60,d50\") ➞ 20 + 50 = 70\n",
    "add_bill(\"p30,d20,p60,d150,p360\") ➞ 20  + 150 = 170\n",
    "add_bill(\"p30,d2k,p60,d200,p360\") ➞ 2 * 1000 + 200 = 2200\n",
    "\"\"\"\n",
    "def add_bill(s):\n",
    "    s=s.split(sep=\",\")\n",
    "    l=[]\n",
    "    for i in s:\n",
    "        if 'd' in i:\n",
    "            l.append(i)\n",
    "    a=\"\"\n",
    "    for i in l:\n",
    "        a=a+i.replace(\"d\",\" \")\n",
    "    a=a.split(sep=\" \")\n",
    "    a.remove('')\n",
    "    tot=0\n",
    "    for i in a:\n",
    "        if 'k' in i:\n",
    "            tot=tot+int(i[:-1])*1000\n",
    "        else:\n",
    "            tot=tot+int(i)\n",
    "\n",
    "    return tot\n",
    "\n",
    "add_bill(\"p30,d2k,p60,d200,p360\")"
   ]
  },
  {
   "cell_type": "code",
   "execution_count": 39,
   "id": "39219f66",
   "metadata": {},
   "outputs": [
    {
     "data": {
      "text/plain": [
       "[[1], [2], [3], [4]]"
      ]
     },
     "execution_count": 39,
     "metadata": {},
     "output_type": "execute_result"
    }
   ],
   "source": [
    "\"\"\"\n",
    "5. Create a function that flips a horizontal list into a vertical list, and a vertical list into a horizontal list.\n",
    "In other words, take an 1 x n list (1 row + n columns) and flip it into a n x 1 list (n rows and 1 column), and vice versa.\n",
    "Examples\n",
    "flip_list([1, 2, 3, 4]) ➞ [[1], [2], [3], [4]]\n",
    "# Take a horizontal list and flip it vertical.\n",
    "flip_list([[5], [6], [9]]) ➞ [5, 6, 9]\n",
    "# Take a vertical list and flip it horizontal.\n",
    "flip_list([]) ➞ []\n",
    "\"\"\"\n",
    "def flip_list(l):\n",
    "    d=[]\n",
    "    s=''\n",
    "    for i in l:\n",
    "        if type(i) != list:\n",
    "            d.append([i])\n",
    "        else:\n",
    "            for j in i :\n",
    "                s=s+str(j)+\" \"\n",
    "    s=s.split(sep=\" \")\n",
    "    l=s[:-1]\n",
    "    for i in l:\n",
    "        i=int(i)\n",
    "        d.append(i)\n",
    "    return d\n",
    "\n",
    "flip_list([1, 2, 3, 4])"
   ]
  }
 ],
 "metadata": {
  "kernelspec": {
   "display_name": "Python 3",
   "language": "python",
   "name": "python3"
  },
  "language_info": {
   "codemirror_mode": {
    "name": "ipython",
    "version": 3
   },
   "file_extension": ".py",
   "mimetype": "text/x-python",
   "name": "python",
   "nbconvert_exporter": "python",
   "pygments_lexer": "ipython3",
   "version": "3.8.8"
  }
 },
 "nbformat": 4,
 "nbformat_minor": 5
}
