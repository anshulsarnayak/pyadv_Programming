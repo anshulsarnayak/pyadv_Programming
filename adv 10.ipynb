{
 "cells": [
  {
   "cell_type": "code",
   "execution_count": 7,
   "id": "f3929e43",
   "metadata": {},
   "outputs": [
    {
     "data": {
      "text/plain": [
       "[['+++++'],\n",
       " ['+   +'],\n",
       " ['+   +'],\n",
       " ['+   +'],\n",
       " ['+   +'],\n",
       " ['+   +'],\n",
       " ['+   +'],\n",
       " ['+++++']]"
      ]
     },
     "execution_count": 7,
     "metadata": {},
     "output_type": "execute_result"
    }
   ],
   "source": [
    "\"\"\"\n",
    "1. Create a function that takes the width, height and character and returns a picture frame as a 2D list.\n",
    "Examples\n",
    "get_frame(4, 5, \"#\") ➞ [\n",
    "  [\"####\"],\n",
    "  [\"#  #\"],\n",
    "  [\"#  #\"],\n",
    "  [\"#  #\"],\n",
    "  [\"####\"]\n",
    "]\n",
    "# Frame is 4 characters wide and 5 characters tall.\n",
    "get_frame(10, 3, \"*\") ➞ [\n",
    "  [\"**********\"],\n",
    "  [\"*        *\"],\n",
    "  [\"**********\"]\n",
    "]\n",
    "# Frame is 10 characters and wide and 3 characters tall.\n",
    "get_frame(2, 5, \"0\") ➞ \"invalid\"\n",
    "# Frame's width is not more than 2.\n",
    "\"\"\"\n",
    "def get_frame(w,h,char):\n",
    "    if w<3:\n",
    "        return \"invalid\"\n",
    "    else:\n",
    "        a=[char*w]\n",
    "        b=[char+\" \"*(w-2 )+char]\n",
    "        l=[]\n",
    "        l.append(a)\n",
    "        for i in range(h-2):\n",
    "            l.append(b)\n",
    "        l.append(a)\n",
    "        return l\n",
    "    \n",
    "get_frame(5,8,\"+\") "
   ]
  },
  {
   "cell_type": "code",
   "execution_count": 17,
   "id": "e6a8a0d2",
   "metadata": {},
   "outputs": [
    {
     "name": "stdout",
     "output_type": "stream",
     "text": [
      "False\n",
      "True\n",
      "False\n"
     ]
    }
   ],
   "source": [
    "\"\"\"\n",
    "2. Write three functions:\n",
    "  1. boolean_and\n",
    "  2. boolean_or\n",
    "  3. boolean_xor\n",
    "These functions should evaluate a list of True and False values, starting from the leftmost element and evaluating pairwise.\n",
    "Examples\n",
    "boolean_and([True, True, False, True]) ➞ False\n",
    "# [True, True, False, True] => [True, False, True] => [False, True] => False\n",
    "boolean_or([True, True, False, False]) ➞ True\n",
    "# [True, True, False, True] => [True, False, False] => [True, False] => True\n",
    "boolean_xor([True, True, False, False]) ➞ False\n",
    "# [True, True, False, False] => [False, False, False] => [False, False] => False\n",
    "\"\"\"\n",
    "def boolean_and(l):\n",
    "    if len(l)==l.count(True):\n",
    "        return True\n",
    "    else:\n",
    "        return False\n",
    "\n",
    "def boolean_or(l):\n",
    "    if True in l:\n",
    "        return True\n",
    "    else:\n",
    "        return False\n",
    "    \n",
    "def boolean_xor(l):\n",
    "    def _xor(a,b):\n",
    "        if (a==True and b==True)  or (a==False and b==False):\n",
    "            return False\n",
    "        else: \n",
    "            return True\n",
    "    for j in range(len(l)):\n",
    "        d=[]\n",
    "        for i in range(len(l)-1):\n",
    "            d.append(_xor(l[i],l[i+1]) )\n",
    "        l=d\n",
    "        if len(d)==1:\n",
    "            return d[0]\n",
    "\n",
    "print(boolean_and([True, True, False, True]))\n",
    "print(boolean_or([True, True, False, False]))\n",
    "print(boolean_xor([True, True, False, False]))"
   ]
  },
  {
   "cell_type": "code",
   "execution_count": 22,
   "id": "11b34dbd",
   "metadata": {},
   "outputs": [
    {
     "name": "stdout",
     "output_type": "stream",
     "text": [
      "['#']\n"
     ]
    },
    {
     "data": {
      "text/plain": [
       "['########',\n",
       " '#      #',\n",
       " '#      #',\n",
       " '#      #',\n",
       " '#      #',\n",
       " '#      #',\n",
       " '#      #',\n",
       " '########']"
      ]
     },
     "execution_count": 22,
     "metadata": {},
     "output_type": "execute_result"
    }
   ],
   "source": [
    "\"\"\"\n",
    "3. Create a function that creates a box based on dimension n.\n",
    "Examples\n",
    "make_box(5) ➞ [\n",
    "  \"#####\",\n",
    "  \"#   #\",\n",
    "  \"#   #\",\n",
    "  \"#   #\",\n",
    "  \"#####\"\n",
    "]\n",
    "make_box(3) ➞ [\n",
    "  \"###\",\n",
    "  \"# #\",\n",
    "  \"###\"\n",
    "]\n",
    "make_box(2) ➞ [\n",
    "  \"##\",\n",
    "  \"##\"\n",
    "]\n",
    "make_box(1) ➞ [\n",
    "  \"#\"\n",
    "]\n",
    "\"\"\"\n",
    "def make_box(w):\n",
    "    char=\"#\";h=w\n",
    "    a=char*w\n",
    "    b=char+\" \"*(w-2 )+char\n",
    "    l=[]\n",
    "    if h>1:\n",
    "        l.append(a)\n",
    "    if h>2:\n",
    "        for i in range(h-2):\n",
    "            l.append(b)\n",
    "    l.append(a)\n",
    "    return l\n",
    "print(make_box(1))\n",
    "make_box(8)"
   ]
  },
  {
   "cell_type": "code",
   "execution_count": 20,
   "id": "a88801b3",
   "metadata": {},
   "outputs": [
    {
     "name": "stdout",
     "output_type": "stream",
     "text": [
      "True\n",
      "False\n"
     ]
    }
   ],
   "source": [
    "\"\"\"\n",
    "4. Given a common phrase, return False if any individual word in the phrase contains duplicate letters. Return True otherwise.\n",
    "Examples\n",
    "no_duplicate_letters(\"Fortune favours the bold.\") ➞ True\n",
    "no_duplicate_letters(\"You can lead a horse to water, but you can't make him drink.\") ➞ True\n",
    "no_duplicate_letters(\"Look before you leap.\") ➞ False\n",
    "# Duplicate letters in \"Look\" and \"before\".\n",
    "no_duplicate_letters(\"An apple a day keeps the doctor away.\") ➞ False\n",
    "# Duplicate letters in \"apple\", \"keeps\", \"doctor\", and \"away\".\n",
    "\"\"\"\n",
    "def no_duplicate_letters(s):\n",
    "    l=s.split(\" \")\n",
    "    for i in l:\n",
    "        for j in i:\n",
    "            if i.count(j)>1:\n",
    "                return False\n",
    "    \n",
    "    return True\n",
    "            \n",
    "print(no_duplicate_letters(\"You can lead a horse to water, but you can't make him drink.\"))            \n",
    "print(no_duplicate_letters(\"Look before you leap.\"))"
   ]
  },
  {
   "cell_type": "code",
   "execution_count": 25,
   "id": "0239f6e4",
   "metadata": {},
   "outputs": [
    {
     "data": {
      "text/plain": [
       "['California', 'Florida']"
      ]
     },
     "execution_count": 25,
     "metadata": {},
     "output_type": "execute_result"
    }
   ],
   "source": [
    "\"\"\"\n",
    "5. Write a regular expression that will match the states that voted yes to President Trump's impeachment.\n",
    "You must use RegEx positive lookahead.\n",
    "Example\n",
    "txt = \"Texas = no, California = yes, Florida = yes, Michigan = no\"\n",
    "pattern = \"yourregularexpressionhere\"\n",
    "re.findall(pattern, txt) ➞ [\"California\", \"Florida\"]\n",
    "\"\"\"\n",
    "import re\n",
    "txt = \"Texas = no, California = yes, Florida = yes, Michigan = no\"\n",
    "pattern =re.compile(r'\\w+(?= = yes)')\n",
    "re.findall(pattern, txt)"
   ]
  },
  {
   "cell_type": "code",
   "execution_count": 30,
   "id": "072b8816",
   "metadata": {},
   "outputs": [
    {
     "data": {
      "text/plain": [
       "['California', 'Florida']"
      ]
     },
     "execution_count": 30,
     "metadata": {},
     "output_type": "execute_result"
    }
   ],
   "source": [
    "txt = \"Texas = no, California = yes, Florida = yes, Michigan = no\";l=[]\n",
    "for i in txt.split(sep=\",\"):\n",
    "    if \"= yes\" in i:\n",
    "        l.append(i[1:-6])\n",
    "l"
   ]
  }
 ],
 "metadata": {
  "kernelspec": {
   "display_name": "Python 3",
   "language": "python",
   "name": "python3"
  },
  "language_info": {
   "codemirror_mode": {
    "name": "ipython",
    "version": 3
   },
   "file_extension": ".py",
   "mimetype": "text/x-python",
   "name": "python",
   "nbconvert_exporter": "python",
   "pygments_lexer": "ipython3",
   "version": "3.8.8"
  }
 },
 "nbformat": 4,
 "nbformat_minor": 5
}
