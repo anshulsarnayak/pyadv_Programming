{
 "cells": [
  {
   "cell_type": "code",
   "execution_count": 30,
   "metadata": {},
   "outputs": [
    {
     "data": {
      "text/plain": [
       "8"
      ]
     },
     "execution_count": 30,
     "metadata": {},
     "output_type": "execute_result"
    }
   ],
   "source": [
    "\"\"\"\n",
    "1. Create a function that takes a number n (integer greater than zero) as an argument, and \n",
    "returns 2 if n is odd and 8 if n is even.\n",
    "You can only use the following arithmetic operators: addition of numbers +, subtraction of numbers -,\n",
    "multiplication of number *, division of number /, and exponentiation **.\n",
    "You are not allowed to use any other methods in this challenge (i.e. no if statements, comparison operators, etc).\n",
    "Examples\n",
    "f(1) ➞ 2\n",
    "f(2) ➞ 8\n",
    "f(3) ➞ 2\n",
    "\"\"\"\n",
    "def f(num):\n",
    "    return ([8,2][num%2])\n",
    "    \n",
    "\n",
    "f(2)"
   ]
  },
  {
   "cell_type": "code",
   "execution_count": 8,
   "metadata": {},
   "outputs": [
    {
     "data": {
      "text/plain": [
       "'A'"
      ]
     },
     "execution_count": 8,
     "metadata": {},
     "output_type": "execute_result"
    }
   ],
   "source": [
    "\"\"\"\n",
    "2. Create a function that returns the majority vote in a list. \n",
    "A majority vote is an element that occurs > N/2 times in a list (where N is the length of the list).\n",
    "Examples\n",
    "majority_vote([\"A\", \"A\", \"B\"]) ➞ \"A\"\n",
    "majority_vote([\"A\", \"A\", \"A\", \"B\", \"C\", \"A\"]) ➞ \"A\"\n",
    "majority_vote([\"A\", \"B\", \"B\", \"A\", \"C\", \"C\"]) ➞ None\n",
    "\"\"\"\n",
    "def majority_vote(given_list):\n",
    "    set_l=set(given_list)\n",
    "    for i in set_l:\n",
    "        if given_list.count(i) > len(given_list)/2 :\n",
    "            return i\n",
    "        else: \n",
    "            return \"None\"\n",
    "        \n",
    "majority_vote([\"A\",\"A\",\"A\",\"A\",\"A\",\"A\",\"A\",\"A\",\"B\", \"B\", \"A\", \"C\", \"C\"])"
   ]
  },
  {
   "cell_type": "code",
   "execution_count": 129,
   "metadata": {},
   "outputs": [
    {
     "name": "stdout",
     "output_type": "stream",
     "text": [
      "why *** the ******* cross the **** ? \n"
     ]
    }
   ],
   "source": [
    "\"\"\"\n",
    "3. Create a function that takes a string txt and censors any word from a given list lst. \n",
    "The text removed must be replaced by the given character char.\n",
    "Examples\n",
    "censor_string(\"Today is a Wednesday!\", [\"Today\", \"a\"], \"-\") ➞ \"----- is - Wednesday!\"\n",
    "censor_string(\"The cow jumped over the moon.\", [\"cow\", \"over\"], \"*\"), \"The *** jumped **** the moon.\")\n",
    "censor_string(\"Why did the chicken cross the road?\", [\"Did\", \"chicken\", \"road\"], \"*\") ➞ \"Why *** the ******* cross the ****?\"\n",
    "\"\"\"\n",
    "def censor_string(given_str,given_list,sp_char):\n",
    "    \n",
    "    given_str=given_str.lower()\n",
    "    n_list=[]\n",
    "    for i in given_list:\n",
    "        n_list.append(i.lower())                # making all case insensitive\n",
    "        \n",
    "    str_list=given_str.split(sep=' ')\n",
    "    c=0\n",
    "    if str_list[-1][-1].isalpha()==False:\n",
    "        str_list.append(str_list[-1][:-1])\n",
    "        str_list.append(str_list[-2][-1])\n",
    "        str_list.pop(-3)                             # for last part of string\n",
    "\n",
    "    for i in str_list:\n",
    "        if i in n_list:\n",
    "            str_list[c]=len(i)*sp_char\n",
    "        c=c+1 \n",
    "    ret_sen=\"\" \n",
    "    for i in str_list:\n",
    "        ret_sen=ret_sen+i+\" \"\n",
    "    print(ret_sen)\n",
    "    \n",
    "censor_string(\"Why did the chicken cross the road?\", [\"Did\", \"chicken\", \"road\"], \"*\") "
   ]
  },
  {
   "cell_type": "code",
   "execution_count": 155,
   "metadata": {},
   "outputs": [
    {
     "data": {
      "text/plain": [
       "True"
      ]
     },
     "execution_count": 155,
     "metadata": {},
     "output_type": "execute_result"
    }
   ],
   "source": [
    "\"\"\"4. In mathematics a Polydivisible Number (or magic number) is a number in\n",
    "a given number base with digits abcde... that has the following properties:\n",
    "-  Its first digit a is not 0.\n",
    "- The number formed by its first two digits ab is a multiple of 2.\n",
    "- The number formed by its first three digits abc is a multiple of 3.\n",
    "- The number formed by its first four digits abcd is a multiple of 4.\n",
    "Create a function which takes an integer n and returns True if the given number is a Polydivisible Number and False otherwise.\n",
    "Examples\n",
    "is_polydivisible(1232) ➞ True\n",
    "# 1     / 1 = 1\n",
    "# 12    / 2 = 6\n",
    "# 123   / 3 = 41\n",
    "# 1232  / 4 = 308\n",
    "is_polydivisible(123220) ➞ False\n",
    "# 1   / 1 = 1\n",
    "# 12   / 2 = 6\n",
    "# 123   / 3 = 41\n",
    "# 1232   / 4 = 308\n",
    "# 12322   / 5 = 2464.4         # Not a Whole Number\n",
    "# 123220   /6 = 220536.333...  # Not a Whole Number\n",
    "\"\"\"\n",
    "def is_polydivisible(n):\n",
    "    n=str(n)\n",
    "    d=len(n)     \n",
    "    for i in range(1,len(n)+1):\n",
    "        if int(n[:i])%(i) !=0:\n",
    "            return False\n",
    "    return True\n",
    "\n",
    "is_polydivisible(12325)"
   ]
  },
  {
   "cell_type": "code",
   "execution_count": 174,
   "metadata": {},
   "outputs": [
    {
     "data": {
      "text/plain": [
       "87"
      ]
     },
     "execution_count": 174,
     "metadata": {},
     "output_type": "execute_result"
    }
   ],
   "source": [
    "\"\"\"\n",
    "5. Create a function that takes a list of numbers and returns the sum of all prime numbers in the list.\n",
    "Examples\n",
    "sum_primes([1, 2, 3, 4, 5, 6, 7, 8, 9, 10]) ➞ 17\n",
    "sum_primes([2, 3, 4, 11, 20, 50, 71]) ➞ 87\n",
    "sum_primes([]) ➞ None\n",
    "\"\"\"\n",
    "def sum_primes(l):\n",
    "    if l ==[]:\n",
    "        return None\n",
    "    else:\n",
    "        tot=0\n",
    "        def is_prime(n):\n",
    "            if n==2 or n==3:\n",
    "                return True\n",
    "            elif n==1:\n",
    "                return False\n",
    "            else:\n",
    "                if n%2==0:\n",
    "                    return False\n",
    "                else:\n",
    "                    for i in range(3,n,2):\n",
    "                        if n%i ==0:\n",
    "                            return False\n",
    "                        else:\n",
    "                            return True\n",
    "        for i in l:\n",
    "            if is_prime(i)==True:\n",
    "                tot=tot+i\n",
    "        return tot\n",
    "    \n",
    "sum_primes([2, 3, 4, 11, 20, 50, 71])"
   ]
  }
 ],
 "metadata": {
  "kernelspec": {
   "display_name": "Python 3",
   "language": "python",
   "name": "python3"
  },
  "language_info": {
   "codemirror_mode": {
    "name": "ipython",
    "version": 3
   },
   "file_extension": ".py",
   "mimetype": "text/x-python",
   "name": "python",
   "nbconvert_exporter": "python",
   "pygments_lexer": "ipython3",
   "version": "3.8.8"
  }
 },
 "nbformat": 4,
 "nbformat_minor": 4
}
