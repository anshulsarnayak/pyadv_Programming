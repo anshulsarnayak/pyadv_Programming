{
 "cells": [
  {
   "cell_type": "code",
   "execution_count": 14,
   "id": "b12964d7",
   "metadata": {},
   "outputs": [
    {
     "data": {
      "text/plain": [
       "[1, 1, 2, 1, 1]"
      ]
     },
     "execution_count": 14,
     "metadata": {},
     "output_type": "execute_result"
    }
   ],
   "source": [
    "\"\"\"\n",
    "1. Implement a class iterator to flatten a nested list of lists of integers. Each list element is either an integer or a list. \n",
    "There can be many levels of nested lists in lists.\n",
    "The class initializes with a nested list. It also has two methods:\n",
    "  1. next() returns an integer in the order of appearance.\n",
    "  2. hasNext() returns True / False regarding if all integers have been retrieved or not.\n",
    "Write the Class implementation for three required methods.\n",
    "Examples\n",
    "ni, actual = NestedIterator([[1, 1], 2, [1, 1]]), []\n",
    "while ni.hasNext():\n",
    "    actual.append(ni.next())\n",
    "actual ➞ [1, 1, 2, 1, 1]\n",
    "ni, actual = NestedIterator([1, [4, [6]]]), []\n",
    "while ni.hasNext():\n",
    "    actual.append(ni.next())\n",
    "actual ➞ [1, 4, 6]\n",
    "ni, actual = NestedIterator([[[]], []]), []\n",
    "while ni.hasNext():\n",
    "    actual.append(ni.next())\n",
    "actual ➞ []\"\"\"\n",
    "class NestedIterator:\n",
    "    Next=0\n",
    "    def __init__(self,l):\n",
    "        self.l =l\n",
    "        l1=[]\n",
    "        for i in self.l:\n",
    "            if type(i)==list:\n",
    "                for j in i :\n",
    "                    if type(j)==list:\n",
    "                        for k in j :\n",
    "                            if type(k)==list:\n",
    "                                for d in k:\n",
    "                                    l1.append(d)\n",
    "                            else:\n",
    "                                l1.append(k)\n",
    "                    else:\n",
    "                        l1.append(j)\n",
    "            else:\n",
    "                l1.append(i)     \n",
    "        self.l1=l1\n",
    "        \n",
    "    def next(self):\n",
    "        a=self.l1[self.__class__.Next]\n",
    "        self.l1.pop(0)\n",
    "        return a\n",
    "    \n",
    "    def hasNext(self):\n",
    "        if len(self.l1) == 0:\n",
    "            return False\n",
    "        else :\n",
    "            return True\n",
    "    \n",
    "ni, actual = NestedIterator([[1, 1], 2, [1, 1]]), []\n",
    "while ni.hasNext():\n",
    "    actual.append(ni.next())\n",
    "actual "
   ]
  },
  {
   "cell_type": "code",
   "execution_count": 18,
   "id": "ae705c66",
   "metadata": {},
   "outputs": [
    {
     "name": "stdout",
     "output_type": "stream",
     "text": [
      "2.0 600\n"
     ]
    }
   ],
   "source": [
    "\"\"\"2. Implement the class Shape that receives perimeter a`nd density function into __init__ method. The list of consecutive\n",
    "corners defines shape of a 2-dimensional object. The density function defines the mass distribution inside the shape. \n",
    "To compute mass in a certain point m(x, y) = small_square * density(x, y). The __init__ method calls other internal methods \n",
    "that compute three characteristics of the shape:\n",
    "   - area\n",
    "   - total mass\n",
    "   - center of mass (xc, yc)\n",
    "The computational grid has distance between two neighboring points as 2 * delta, the distance between a grid point and \n",
    "the perimeter wall is delta.\n",
    "Examples\n",
    "sh_ex1 = Shape([(1, 1), (3, 1), (3, 2), (1, 2)], lambda x, y: 100 + 100 * x)\n",
    "sh_ex1.area ➞ 2.0\n",
    "sh_ex1.mass ➞ 600.0\n",
    "sh_ex1.mass_center ➞ (2.1, 1.5) \n",
    "\"\"\"\n",
    "class Shape:\n",
    "    def __init__(self,peri_l,den_fun):\n",
    "        self.peri_l = peri_l\n",
    "        self.den_fun = den_fun  # mass distribution  , mass in a certain point m(x, y) = small_square * density(x, y).\n",
    "        b=[]\n",
    "        for i in self.peri_l:\n",
    "            b.append(self.den_fun(i[0],i[1]))\n",
    "        mass = sum(b)//2\n",
    "        self.mass = mass\n",
    "        \n",
    "        import math\n",
    "        ab =math.sqrt((self.peri_l[0][0]-self.peri_l[1][0])**2 +(self.peri_l[0][1]-self.peri_l[1][1])**2)\n",
    "        bc =math.sqrt((self.peri_l[1][0]-self.peri_l[2][0])**2 +(self.peri_l[1][1]-self.peri_l[2][1])**2)\n",
    "        cd =math.sqrt((self.peri_l[2][0]-self.peri_l[3][0])**2 +(self.peri_l[2][1]-self.peri_l[3][1])**2)\n",
    "        ad =math.sqrt((self.peri_l[0][0]-self.peri_l[3][0])**2 +(self.peri_l[0][1]-self.peri_l[3][1])**2)\n",
    "        ac =math.sqrt((self.peri_l[0][0]-self.peri_l[2][0])**2 +(self.peri_l[0][1]-self.peri_l[2][1])**2)\n",
    "        def Atraingle(a,b,c):\n",
    "            s=(a+b+c)/2\n",
    "            return math.sqrt(s*(s-a)*(s-b)*(s-c))\n",
    "        T1=Atraingle(ab,bc,ac)\n",
    "        T2=Atraingle(cd,ad,ac)\n",
    "        area = T1+T2\n",
    "        self.area =area\n",
    "    \n",
    "sh_ex1 = Shape([(1, 1), (3, 1), (3, 2), (1, 2)], lambda x, y: 100 + 100 * x)\n",
    "print(sh_ex1.area,sh_ex1.mass)"
   ]
  },
  {
   "cell_type": "code",
   "execution_count": 4,
   "id": "7e2ac4e0",
   "metadata": {},
   "outputs": [
    {
     "data": {
      "text/plain": [
       "'X'"
      ]
     },
     "execution_count": 4,
     "metadata": {},
     "output_type": "execute_result"
    }
   ],
   "source": [
    "\"\"\"3. Given a 3x3 matrix of a completed tic-tac-toe game, create a function that returns whether the game is a win for \"X\", \"O\",\n",
    "or a \"Draw\", where \"X\" and \"O\" represent themselves on the matrix, and \"E\" represents an empty spot.\n",
    "Examples\n",
    "tic_tac_toe([\n",
    "  [\"X\", \"O\", \"X\"],\n",
    "  [\"O\", \"X\",  \"O\"],\n",
    "  [\"O\", \"X\",  \"X\"]\n",
    "]) ➞ \"X\"\n",
    "tic_tac_toe([\n",
    "  [\"O\", \"O\", \"O\"],\n",
    "  [\"O\", \"X\", \"X\"],\n",
    "  [\"E\", \"X\", \"X\"]\n",
    "]) ➞ \"O\"\n",
    "tic_tac_toe([\n",
    "  [\"X\", \"X\", \"O\"],\n",
    "  [\"O\", \"O\", \"X\"],\n",
    "  [\"X\", \"X\", \"O\"]\n",
    "]) ➞ \"Draw\"\n",
    "\"\"\"\n",
    "def tic_tac_toe(l):\n",
    "    def win_draw(l):\n",
    "        for i in range(3):\n",
    "            if l[i][0]== l[i][1] == l[i][2]  :\n",
    "                return l[i][0]\n",
    "            elif l[0][i] == l[1][i] == l[2][i]:\n",
    "                return l[i][0]\n",
    "\n",
    "        if l[0][0]== l[1][1] == l[2][2] :\n",
    "            return l[0][0]\n",
    "        elif  l[0][2] == l[1][1] == l[2][0]:\n",
    "            return l[0][2]\n",
    "        return False\n",
    "    \n",
    "    if win_draw(l) == False:\n",
    "        return \"Draw\"\n",
    "    else:\n",
    "        return win_draw(l)\n",
    "\n",
    "tic_tac_toe([\n",
    "  [\"X\", \"O\", \"X\"],\n",
    "  [\"O\", \"X\",  \"O\"],\n",
    "  [\"O\", \"X\",  \"X\"]\n",
    "]) "
   ]
  },
  {
   "cell_type": "code",
   "execution_count": 16,
   "id": "d9e8c6a5",
   "metadata": {},
   "outputs": [
    {
     "data": {
      "text/plain": [
       "[' antivirus.exe', ' cat.pdf']"
      ]
     },
     "execution_count": 16,
     "metadata": {},
     "output_type": "execute_result"
    }
   ],
   "source": [
    "\"\"\"4. Your computer might have been infected by a virus! Create a function that finds the viruses in files and removes them\n",
    "from your computer.Examples\n",
    "remove_virus(\"PC Files: spotifysetup.exe, virus.exe, dog.jpg\") ➞ \"PC Files: spotifysetup.exe, dog.jpg\"\n",
    "remove_virus(\"PC Files: antivirus.exe, cat.pdf, lethalmalware.exe, dangerousvirus.exe  \") ➞ \"PC Files: antivirus.exe, cat.pdf\"\n",
    "remove_virus(\"PC Files: notvirus.exe, funnycat.gif\") ➞ \"PC Files: notvirus.exe, funnycat.gif\")\n",
    "\"\"\"\n",
    "def remove_virus(s):\n",
    "    a=s[9:]\n",
    "    a=a.split(sep=',');l=[' virus.exe',' lethalmalware.exe',' dangerousvirus.exe  ']\n",
    "    c=[]\n",
    "    for i in a:\n",
    "        for j in i :\n",
    "            if j == \" \":\n",
    "                i.replace(' ','')\n",
    "                if i not in l:\n",
    "                    c.append(i)\n",
    "    return c\n",
    "\n",
    "remove_virus(\"PC Files: antivirus.exe, cat.pdf, lethalmalware.exe, dangerousvirus.exe  \")"
   ]
  },
  {
   "cell_type": "code",
   "execution_count": 45,
   "id": "29ba470c",
   "metadata": {},
   "outputs": [
    {
     "data": {
      "text/plain": [
       "True"
      ]
     },
     "execution_count": 45,
     "metadata": {},
     "output_type": "execute_result"
    }
   ],
   "source": [
    "\"\"\"5. In a video game, a meteor will fall toward the main character's home planet. Given the meteor's trajectory as a string in\n",
    "the form y = mx + b and the character's position as a tuple of (x, y), return True if the meteor will hit the character and\n",
    "False if it will not.\n",
    "Examples\n",
    "will_hit(\"y = 2x - 5\", (0, 0)) ➞ False\n",
    "will_hit(\"y = -4x + 6\", (1, 2)) ➞ True\n",
    "will_hit(\"y = 2x + 6\", (3, 2)) ➞ False\n",
    "\"\"\"\n",
    "def will_hit(s_eq,coord):\n",
    "    x , y = coord\n",
    "    a,b = s_eq.split(sep='=')\n",
    "    m,c= b.split(sep=b[(b.index('x')+2)])\n",
    "    m=m.split(sep='x')\n",
    "    m,c= int(m[0]),int(c)\n",
    "\n",
    "    if y == m*x+c :\n",
    "        return True\n",
    "    return False\n",
    "\n",
    "will_hit(\"y = -4x + 6\", (1, 2))"
   ]
  }
 ],
 "metadata": {
  "kernelspec": {
   "display_name": "Python 3",
   "language": "python",
   "name": "python3"
  },
  "language_info": {
   "codemirror_mode": {
    "name": "ipython",
    "version": 3
   },
   "file_extension": ".py",
   "mimetype": "text/x-python",
   "name": "python",
   "nbconvert_exporter": "python",
   "pygments_lexer": "ipython3",
   "version": "3.8.8"
  }
 },
 "nbformat": 4,
 "nbformat_minor": 5
}
