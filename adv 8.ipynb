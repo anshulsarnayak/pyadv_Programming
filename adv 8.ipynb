{
 "cells": [
  {
   "cell_type": "code",
   "execution_count": 23,
   "id": "2d6ff7cd",
   "metadata": {},
   "outputs": [
    {
     "data": {
      "text/plain": [
       "True"
      ]
     },
     "execution_count": 23,
     "metadata": {},
     "output_type": "execute_result"
    }
   ],
   "source": [
    "\"\"\"\n",
    "1. Given a sentence as txt, return True if any two adjacent words have this property: One word ends with a vowel, \n",
    "while the word immediately after begins with a vowel (a e i o u).\n",
    "Examples\n",
    "vowel_links(\"a very large appliance\") ➞ True\n",
    "vowel_links(\"go to edabit\") ➞ True\n",
    "vowel_links(\"an open fire\") ➞ False\n",
    "vowel_links(\"a sudden applause\") ➞ False\n",
    "\"\"\"\n",
    "def vowel_links(s):\n",
    "    l=s.split(sep=\" \")\n",
    "    vowel='aeiou'\n",
    "    d=0\n",
    "    c=1\n",
    "    for i in l[0:len(l)-1]:\n",
    "        if i[-1] in vowel and l[c][0] in vowel:\n",
    "            d=d+1\n",
    "        c=c+1\n",
    "    if d>=1:\n",
    "        return True\n",
    "    else:\n",
    "        return False\n",
    "    \n",
    "vowel_links(\"a very large appliance\")"
   ]
  },
  {
   "cell_type": "code",
   "execution_count": 28,
   "id": "1bc26cd0",
   "metadata": {},
   "outputs": [
    {
     "data": {
      "text/plain": [
       "True"
      ]
     },
     "execution_count": 28,
     "metadata": {},
     "output_type": "execute_result"
    }
   ],
   "source": [
    "\"\"\"\n",
    "2. You are given three inputs: a string, one letter, and a second letter.\n",
    "Write a function that returns True if every instance of the first letter occurs before every instance of the second letter.\n",
    "Examples\n",
    "first_before_second(\"a rabbit jumps joyfully\", \"a\", \"j\") ➞ True\n",
    "# Every instance of \"a\" occurs before every instance of \"j\".\n",
    "first_before_second(\"knaves knew about waterfalls\", \"k\", \"w\") ➞  True\n",
    "first_before_second(\"happy birthday\", \"a\", \"y\") ➞ False\n",
    "# The \"a\" in \"birthday\" occurs after the \"y\" in \"happy\".\n",
    "first_before_second(\"precarious kangaroos\", \"k\", \"a\") ➞ False\n",
    "\"\"\"\n",
    "def first_before_second(string,let_1,let_2):\n",
    "    string=\"a rabbit jumps joyfully\";let_1='a';let_2='j'\n",
    "    d=string.count(let_1)\n",
    "    e=string.count(let_2)\n",
    "    let_=let_1*d+let_2*e\n",
    "    patt=''\n",
    "    for i in let_:\n",
    "        if i in string:\n",
    "            patt=patt+i\n",
    "    if patt==let_:\n",
    "        return True\n",
    "    else:\n",
    "        return False\n",
    "    \n",
    "first_before_second(\"knaves knew about waterfalls\", \"k\", \"w\")"
   ]
  },
  {
   "cell_type": "code",
   "execution_count": 39,
   "id": "13cbdcf4",
   "metadata": {},
   "outputs": [
    {
     "data": {
      "text/plain": [
       "['A', 'B', 'T', 'A', 'I', 'Y']"
      ]
     },
     "execution_count": 39,
     "metadata": {},
     "output_type": "execute_result"
    }
   ],
   "source": [
    "\"\"\"3. Create a function that returns the characters from a list or string r on odd or even positions,\n",
    "depending on the specifier s. The specifier will be \"odd\" for items on odd positions (1, 3, 5, ...) and \n",
    "\"even\" for items on even positions (2, 4, 6, ...).\n",
    "Examples\n",
    "char_at_pos([2, 4, 6, 8, 10], \"even\") ➞ [4, 8]\n",
    "# 4 & 8 occupy the 2nd & 4th positions\n",
    "char_at_pos(\"EDABIT\", \"odd\") ➞ \"EAI\"\n",
    "# \"E\", \"A\" and \"I\" occupy the 1st, 3rd and 5th positions\n",
    "char_at_pos([\"A\", \"R\", \"B\", \"I\", \"T\", \"R\", \"A\", \"R\", \"I\", \"L\", \"Y\"], \"odd\") ➞ [\"A\", \"B\", \"T\", \"A\", \"I\", \"Y\"]\"\"\"\n",
    "def char_at_pos(l,s):\n",
    "    d=[]\n",
    "    if s==\"even\":\n",
    "        for i in range(1,len(l),2):\n",
    "            d.append(l[i])\n",
    "    else:\n",
    "        for i in range(0,len(l),2):\n",
    "            d.append(l[i])\n",
    "    return d\n",
    "\n",
    "char_at_pos([\"A\", \"R\", \"B\", \"I\", \"T\", \"R\", \"A\", \"R\", \"I\", \"L\", \"Y\"], \"odd\")"
   ]
  },
  {
   "cell_type": "code",
   "execution_count": 78,
   "id": "ee9c28c9",
   "metadata": {},
   "outputs": [
    {
     "data": {
      "text/plain": [
       "2"
      ]
     },
     "execution_count": 78,
     "metadata": {},
     "output_type": "execute_result"
    }
   ],
   "source": [
    "\"\"\"4. Write a function that returns the greatest common divisor of all list elements.\n",
    "If the greatest common divisor is 1, return 1.\n",
    "Examples\n",
    "GCD([10, 20, 40]) ➞ 10\n",
    "GCD([1, 2, 3, 100]) ➞ 1\n",
    "GCD([1024, 192, 2048, 512]) ➞ 64\n",
    "\"\"\"\n",
    "def GCD(l):\n",
    "    for j in range(min(l),0,-1):\n",
    "        i=0\n",
    "        if len(l)==4:\n",
    "            if l[i]%j ==0 and l[i+1]%j==0 and l[i+2]%j==0 and l[i+3]%j==0:\n",
    "                return j\n",
    "            \n",
    "        elif len(l)==3:\n",
    "            if l[i]%j ==0 and l[i+1]%j==0 and l[i+2]%j==0:\n",
    "                return j\n",
    "            \n",
    "        elif len(l)==5:\n",
    "            if l[i]%j ==0 and l[i+1]%j==0 and l[i+2]%j==0 and l[i+3]%j==0 and l[i+4]%j==0:\n",
    "                return j\n",
    "            \n",
    "GCD([10, 20, 40,14])"
   ]
  },
  {
   "cell_type": "code",
   "execution_count": 123,
   "id": "bd6db765",
   "metadata": {},
   "outputs": [
    {
     "data": {
      "text/plain": [
       "'Decimal and binary.'"
      ]
     },
     "execution_count": 123,
     "metadata": {},
     "output_type": "execute_result"
    }
   ],
   "source": [
    "\"\"\"\n",
    "5. A number/string is a palindrome if the digits/characters are the same when read both forward and backward. \n",
    "Examples include \"racecar\" and 12321. Given a positive number n, check if n or the binary representation of n is palindromic.\n",
    "Return the following:\n",
    "- \"Decimal only.\" if only n is a palindrome.\n",
    "- \"Binary only.\" if only the binary representation of n is a palindrome.\n",
    "- \"Decimal and binary.\" if both are palindromes.\n",
    "- \"Neither!\" if neither are palindromes.\n",
    "Examples\n",
    "palindrome_type(1306031) ➞ \"Decimal only.\"\n",
    "# decimal = 1306031\n",
    "# binary  = \"100111110110110101111\"\n",
    "palindrome_type(427787) ➞ \"Binary only.\"\n",
    "# decimal = 427787\n",
    "# binary  = \"1101000011100001011\"\n",
    "palindrome_type(313) ➞ \"Decimal and binary.\"\n",
    "# decimal = 313\n",
    "# binary  = 100111001\n",
    "palindrome_type(934) ➞ \"Neither!\"\n",
    "# decimal = 934\n",
    "# binary  = \"1110100110\"\n",
    "\"\"\"\n",
    "def palindrome_type(n):\n",
    "    def palindrome(num):\n",
    "        num=int(num)\n",
    "        if num%2!=0:\n",
    "            num=str(num)\n",
    "            if num[:int(len(num)/2)]== (num[int(len(num)/2)+1:])[::-1] :\n",
    "                return True\n",
    "            else:\n",
    "                return False\n",
    "        else:\n",
    "            if num[:len(num)//2]==(num[len(num)//2:])[::-1]:\n",
    "                return True\n",
    "            else:\n",
    "                return False\n",
    "    \n",
    "    if palindrome(n)==True and palindrome(bin(n)[2:])==True:\n",
    "        return \"Decimal and binary.\"\n",
    "    \n",
    "    elif palindrome(n)==True:\n",
    "        return  \"Decimal only.\"\n",
    "    \n",
    "    elif palindrome(bin(n)[2:])==True:\n",
    "        return \"Binary only.\"\n",
    "    \n",
    "    else:\n",
    "        return \"Neither!\"\n",
    "\n",
    "palindrome_type(313)"
   ]
  }
 ],
 "metadata": {
  "kernelspec": {
   "display_name": "Python 3",
   "language": "python",
   "name": "python3"
  },
  "language_info": {
   "codemirror_mode": {
    "name": "ipython",
    "version": 3
   },
   "file_extension": ".py",
   "mimetype": "text/x-python",
   "name": "python",
   "nbconvert_exporter": "python",
   "pygments_lexer": "ipython3",
   "version": "3.8.8"
  }
 },
 "nbformat": 4,
 "nbformat_minor": 5
}
