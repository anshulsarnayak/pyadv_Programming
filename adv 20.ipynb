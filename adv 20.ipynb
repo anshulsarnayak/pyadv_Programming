{
 "cells": [
  {
   "cell_type": "code",
   "execution_count": 4,
   "id": "e2076f98",
   "metadata": {},
   "outputs": [
    {
     "data": {
      "text/plain": [
       "\"<p class='four five'> </p>\""
      ]
     },
     "execution_count": 4,
     "metadata": {},
     "output_type": "execute_result"
    }
   ],
   "source": [
    "\"\"\"\n",
    "1. Create a function based on the input and output. Look at the examples, there is a pattern.\n",
    "Examples\n",
    "secret(\"p.one.two.three\") ➞ \"<p class='one two three'></p>\"\n",
    "secret(\"p.one\") ➞ \"<p class='one'></p>\"\n",
    "secret(\"p.four.five\") ➞ \"<p class='four five'></p>\"\n",
    "\"\"\"\n",
    "def secret(s):\n",
    "    s=s.split(sep=\".\")\n",
    "    a=\"\"\n",
    "    for i in s[1:]:\n",
    "        if i==s[-1]:\n",
    "            a=a+i\n",
    "        else:\n",
    "            a=a+i+\" \"\n",
    "    return \"<{} class='{}'> </{}>\".format(s[0],a,s[0])\n",
    "\n",
    "secret(\"p.four.five\")"
   ]
  },
  {
   "cell_type": "code",
   "execution_count": 55,
   "id": "53d65ce2",
   "metadata": {},
   "outputs": [
    {
     "data": {
      "text/plain": [
       "3"
      ]
     },
     "execution_count": 55,
     "metadata": {},
     "output_type": "execute_result"
    }
   ],
   "source": [
    "\"\"\"\n",
    "2. Create a function which counts how many lone 1s appear in a given number. Lone means the number doesn't appear twice or \n",
    "more in a row.\n",
    "Examples\n",
    "count_lone_ones(101) ➞ 2\n",
    "count_lone_ones(1191) ➞ 1\n",
    "count_lone_ones(1111) ➞ 0\n",
    "count_lone_ones(462) ➞ 0\n",
    "\"\"\"\n",
    "def count_lone_ones(n):\n",
    "    n=str(n)\n",
    "    a=0\n",
    "    for count,i in enumerate(n):\n",
    "        if i=='1' :\n",
    "            if count==0 :\n",
    "                if i != n[count+1]:\n",
    "                    a=a+1\n",
    "\n",
    "            elif count == len(n)-1 :\n",
    "                if i != n[count-1]:\n",
    "                    a=a+1\n",
    "\n",
    "            elif i!= n[count+1] and i != n[count-1]:\n",
    "\n",
    "                a=a+1\n",
    "    return a\n",
    "\n",
    "count_lone_ones(19121)"
   ]
  },
  {
   "cell_type": "code",
   "execution_count": 14,
   "id": "a4c9ee82",
   "metadata": {},
   "outputs": [
    {
     "data": {
      "text/plain": [
       "[[1, 6, 11], [2, 7, 12], [3, 8, 13], [4, 9, 14], [5, 10, 15]]"
      ]
     },
     "execution_count": 14,
     "metadata": {},
     "output_type": "execute_result"
    }
   ],
   "source": [
    "\"\"\"\n",
    "3. Write a method that accepts two integer parameters rows and cols. The output is a 2d array of numbers displayed in\n",
    "column-major order, meaning the numbers shown increase sequentially down each column and wrap to the top of the next column\n",
    "to the right once the bottom of the current column is reached.\n",
    "Examples\n",
    "printGrid(3, 6) ➞ [\n",
    "  [1, 4, 7, 10, 13, 16],\n",
    "  [2, 5, 8, 11, 14, 17],\n",
    "  [3, 6, 9, 12, 15, 18]\n",
    "]\n",
    "printGrid(5, 3) ➞ [\n",
    "  [1, 6, 11],\n",
    "  [2, 7, 12],\n",
    "  [3, 8, 13],\n",
    "  [4, 9, 14],\n",
    "  [5, 10, 15]\n",
    "]\n",
    "printGrid(4, 1) ➞ [\n",
    "  [1],\n",
    "  [2],\n",
    "  [3],\n",
    "  [4]\n",
    "]\n",
    "\"\"\"\n",
    "def printGrid(n,m):\n",
    "    l=[i for i in range(1,(n*m)+1)]\n",
    "    a=[]\n",
    "    for count in range(n):\n",
    "        for i in range(m):\n",
    "            a.append(l[count+n*i])   \n",
    "\n",
    "    b=[];c=0\n",
    "    for i in range(n):\n",
    "        x=[]\n",
    "        for j in range(m):\n",
    "            x.append(a[c])\n",
    "            c=c+1\n",
    "        b.append(x)\n",
    "    return b\n",
    "\n",
    "printGrid(5, 3)"
   ]
  },
  {
   "cell_type": "code",
   "execution_count": 30,
   "id": "f469a185",
   "metadata": {},
   "outputs": [
    {
     "data": {
      "text/plain": [
       "8"
      ]
     },
     "execution_count": 30,
     "metadata": {},
     "output_type": "execute_result"
    }
   ],
   "source": [
    "\"\"\"\n",
    "4. Given a list of integers, return the smallest positive integer not present in the list.\n",
    "Here is a representative example. Consider the list:\n",
    "[-2, 6, 4, 5, 7, -1, 7, 1, 3, 6, 6, -2, 9, 10, 2, 2]\n",
    "After reordering, the list becomes:\n",
    "[-2, -2, -1, 1, 2, 2, 3, 4, 5, 6, 6, 6, 7, 7, 9, 10]\n",
    "from which we see that the smallest missing positive integer is 8.\n",
    "Examples\n",
    "min_miss_pos([-2, 6, 4, 5, 7, -1, 1, 3, 6, -2, 9, 10, 2, 2]) ➞ 8\n",
    "# After sorting, list becomes [-2, -2, -1, 1, 2, 2, 3, 4, 5, 6, 6, 7, 9, 10]\n",
    "# So the smallest missing positive integer is 8\n",
    "min_miss_pos([5, 9, -2, 0, 1, 3, 9, 3, 8, 9]) ➞ 2\n",
    "# After sorting, list becomes [-2, 0, 1, 3, 3, 5, 8, 9, 9, 9]\n",
    "# So the smallest missing positive integer is 2\n",
    "min_miss_pos([0, 4, 4, -1, 9, 4, 5, 2, 10, 7, 6, 3, 10, 9]) ➞ 1\n",
    "# After sorting, list becomes [-1, 0, 2, 3, 4, 4, 4, 5, 6, 7, 9, 9, 10, 10]\n",
    "# So the smallest missing positive integer is 1\n",
    "\"\"\"\n",
    "def min_miss_pos(l):\n",
    "    for i in range(1,max(l)):\n",
    "        if i not in l:\n",
    "            return i\n",
    "        \n",
    "min_miss_pos([-2, 6, 4, 5, 7, -1, 1, 3, 6, -2, 9, 10, 2, 2])"
   ]
  },
  {
   "cell_type": "code",
   "execution_count": 4,
   "id": "e0922541",
   "metadata": {},
   "outputs": [
    {
     "data": {
      "text/plain": [
       "1"
      ]
     },
     "execution_count": 4,
     "metadata": {},
     "output_type": "execute_result"
    }
   ],
   "source": [
    "\"\"\"\n",
    "5. Google is launching a network of autonomous pizza delivery drones and wants you to create a flexible rewards system \n",
    "(Pizza Points™) that can be tweaked in the future. The rules are simple: if a customer has made at least N orders of \n",
    "at least Y price, they get a FREE pizza!\n",
    "Create a function that takes a dictionary of customers, a minimum number of orders and a minimum order price. \n",
    "Return a list of customers that are eligible for a free pizza.\n",
    "Examples\n",
    "customers = {\n",
    "  \"Batman\": [22, 30, 11, 17, 15, 52, 27, 12],                    # what is this (min_orders ? or min_price ?)\n",
    "  \"Spider-Man\": [5, 17, 30, 33, 40, 22, 26, 10, 11, 45]  \n",
    "}\n",
    "  pizza_points(customers, 5, 20) ➞ [\"Spider-Man\"]               # how the output is coming\n",
    "  pizza_points(customers, 3, 10) ➞ [\"Batman\", \"Spider-Man\"]\n",
    "  pizza_points(customers, 5, 100) ➞ []\n",
    "\"\"\"\n",
    "1"
   ]
  },
  {
   "cell_type": "code",
   "execution_count": 11,
   "id": "28ee1382",
   "metadata": {},
   "outputs": [],
   "source": [
    "#def pizza_points(dict_customers,min_orders,min_orderprice):\n",
    "customers = {\n",
    "  \"Batman\": [22, 30, 11, 17, 15, 52, 27, 12],\n",
    "  \"Spider-Man\": [5, 17, 30, 33, 40, 22, 26, 10, 11, 45]\n",
    "}\n",
    "min_orders=5;min_orderprice=20"
   ]
  },
  {
   "cell_type": "code",
   "execution_count": null,
   "id": "d71ecd67",
   "metadata": {},
   "outputs": [],
   "source": []
  }
 ],
 "metadata": {
  "kernelspec": {
   "display_name": "Python 3",
   "language": "python",
   "name": "python3"
  },
  "language_info": {
   "codemirror_mode": {
    "name": "ipython",
    "version": 3
   },
   "file_extension": ".py",
   "mimetype": "text/x-python",
   "name": "python",
   "nbconvert_exporter": "python",
   "pygments_lexer": "ipython3",
   "version": "3.8.8"
  }
 },
 "nbformat": 4,
 "nbformat_minor": 5
}
