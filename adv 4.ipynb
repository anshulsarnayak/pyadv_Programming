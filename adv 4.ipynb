{
 "cells": [
  {
   "cell_type": "code",
   "execution_count": 17,
   "metadata": {},
   "outputs": [
    {
     "data": {
      "text/plain": [
       "6765"
      ]
     },
     "execution_count": 17,
     "metadata": {},
     "output_type": "execute_result"
    }
   ],
   "source": [
    "\"\"\"\n",
    "1. In mathematics, the Fibonacci numbers, commonly denoted Fn, form a sequence, called the Fibonacci sequence, \n",
    "such that each number is the sum of the two preceding ones, starting from 0 and 1:\n",
    "The beginning of the sequence is this:\n",
    "0, 1, 1, 2, 3, 5, 8, 13, 21, 34, 55, 89, 144,233,377,610 ...\n",
    "The function fastFib(num) returns the fibonacci number Fn, of the given num as an argument.\n",
    "Examples\n",
    "fib_fast(5) ➞ 5\n",
    "fib_fast(10) ➞ 55\n",
    "fib_fast(20) ➞ 6765\n",
    "fib_fast(50) ➞ 12586269025\n",
    "\"\"\"\n",
    "def fib_fast(n):\n",
    "    a=0\n",
    "    b=1\n",
    "    for i in range(n-1):\n",
    "        c=a+b\n",
    "        a,b=b,c\n",
    "    return c\n",
    "\n",
    "fib_fast(20)"
   ]
  },
  {
   "cell_type": "code",
   "execution_count": 58,
   "metadata": {},
   "outputs": [
    {
     "data": {
      "text/plain": [
       "' 4d 61 72 74 79 20 50 6f 70 70 69 6e 73 6f 6e'"
      ]
     },
     "execution_count": 58,
     "metadata": {},
     "output_type": "execute_result"
    }
   ],
   "source": [
    "\"\"\"2. Create a function that takes a strings characters as ASCII and returns each characters hexadecimal value as a string.\n",
    "Examples\n",
    "convert_to_hex(\"hello world\") ➞ \"68 65 6c 6c 6f 20 77 6f 72 6c 64\"\n",
    "convert_to_hex(\"Big Boi\") ➞ \"42 69 67 20 42 6f 69\"\n",
    "convert_to_hex(\"Marty Poppinson\") ➞ \"4d 61 72 74 79 20 50 6f 70 70 69 6e 73 6f 6e\"\n",
    "\"\"\"\n",
    "import binhex\n",
    "def convert_to_hex(s):\n",
    "    c=''\n",
    "    for i in s:\n",
    "        i=ord(i)                    #ascii form\n",
    "        c=c+str(hex(i))\n",
    "    c=c.replace('0x',' ')\n",
    "    return c\n",
    "\n",
    "convert_to_hex(\"Marty Poppinson\")"
   ]
  },
  {
   "cell_type": "code",
   "execution_count": 92,
   "metadata": {},
   "outputs": [
    {
     "data": {
      "text/plain": [
       "'Where did my vowels go?'"
      ]
     },
     "execution_count": 92,
     "metadata": {},
     "output_type": "execute_result"
    }
   ],
   "source": [
    "\"\"\"\n",
    "3. Someone has attempted to censor my strings by replacing every vowel with a *, l*k* th*s. \n",
    "Luckily, I've been able to find the vowels that were removed.\n",
    "Given a censored string and a string of the censored vowels, return the original uncensored string.\n",
    "Example\n",
    "uncensor(\"Wh*r* d*d my v*w*ls g*?\", \"eeioeo\") ➞ \"Where did my vowels go?\"\n",
    "uncensor(\"abcd\", \"\") ➞ \"abcd\"\n",
    "uncensor(\"*PP*RC*S*\", \"UEAE\") ➞ \"UPPERCASE\"\n",
    "\"\"\"\n",
    "def uncensor(my_string,found_vowels):\n",
    "    if '*' not in my_string:\n",
    "        return my_string\n",
    "    else:\n",
    "        c=0\n",
    "        d=0\n",
    "        for i in my_string:\n",
    "            if i != '*':\n",
    "                c=c+1\n",
    "            else:\n",
    "                my_string=my_string.replace(my_string[c],found_vowels[d],1)  # replacing at an instance=1\n",
    "                d=d+1\n",
    "                c=c+1\n",
    "        return my_string\n",
    "    \n",
    "uncensor(\"Wh*r* d*d my v*w*ls g*?\", \"eeioeo\") "
   ]
  },
  {
   "cell_type": "code",
   "execution_count": 25,
   "metadata": {},
   "outputs": [
    {
     "data": {
      "text/plain": [
       "'dns.google'"
      ]
     },
     "execution_count": 25,
     "metadata": {},
     "output_type": "execute_result"
    }
   ],
   "source": [
    "\"\"\"\n",
    "4. Write a function that takes an IP address and returns the domain name using PTR DNS records.\n",
    "Example\n",
    "get_domain(\"8.8.8.8\") ➞ \"dns.google\"\n",
    "get_domain(\"8.8.4.4\") ➞ \"dns.google\"\n",
    "\"\"\"\n",
    "import socket\n",
    "def get_domain(ip_address):\n",
    "    return socket.getfqdn(ip_address) \n",
    "\n",
    "get_domain(\"8.8.8.8\")"
   ]
  },
  {
   "cell_type": "code",
   "execution_count": 103,
   "metadata": {},
   "outputs": [
    {
     "data": {
      "text/plain": [
       "34560"
      ]
     },
     "execution_count": 103,
     "metadata": {},
     "output_type": "execute_result"
    }
   ],
   "source": [
    "\"\"\"\n",
    "5. Create a function that takes an integer n and returns the factorial of factorials. \n",
    "See below examples for a better understanding:\n",
    "Examples\n",
    "fact_of_fact(4) ➞ 288\n",
    "# 4! * 3! * 2! * 1! = 288\n",
    "fact_of_fact(5) ➞ 34560\n",
    "fact_of_fact(6) ➞ 24883200\"\"\"\n",
    "\n",
    "def fact_of_fact(n) :\n",
    "    \n",
    "    def fact(n):\n",
    "        if n==1 or n==0:\n",
    "            return 1\n",
    "        else:\n",
    "            return n*fact(n-1)\n",
    "    ans=1\n",
    "    for i in range (n,1,-1):\n",
    "        ans=ans*fact(i)\n",
    "    return ans\n",
    "\n",
    "fact_of_fact(5)"
   ]
  }
 ],
 "metadata": {
  "kernelspec": {
   "display_name": "Python 3",
   "language": "python",
   "name": "python3"
  },
  "language_info": {
   "codemirror_mode": {
    "name": "ipython",
    "version": 3
   },
   "file_extension": ".py",
   "mimetype": "text/x-python",
   "name": "python",
   "nbconvert_exporter": "python",
   "pygments_lexer": "ipython3",
   "version": "3.8.8"
  }
 },
 "nbformat": 4,
 "nbformat_minor": 4
}
