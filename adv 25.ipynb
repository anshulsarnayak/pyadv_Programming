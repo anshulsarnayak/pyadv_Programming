{
 "cells": [
  {
   "cell_type": "code",
   "execution_count": 34,
   "id": "202845c0",
   "metadata": {},
   "outputs": [
    {
     "name": "stdout",
     "output_type": "stream",
     "text": [
      " [1, 2, 3, 4, 1, 2, 3, 4, 1, 2, 3, 4] \n",
      " [1, 2, 3, 4, 1, 2, 3, 4, 1, 2, 3, 4, 1] \n",
      " [1] \n",
      " [1, 3, 4] \n"
     ]
    }
   ],
   "source": [
    "\"\"\"1. Write four functions that directly mutate a list:\n",
    "    1. repeat(lst, n): Repeat lst n times.\n",
    "    2. add(lst, x): Adds x to the end of the lst.\n",
    "    3. remove(lst, m, n): Removes all elements between indices m and n inclusive in lst.\n",
    "    4. concat(lst, x): concatenates lst with x (another list).\n",
    "Examples\n",
    "lst = [1, 2, 3, 4]\n",
    "repeat(lst, 3) ➞ [1, 2, 3, 4, 1, 2, 3, 4, 1, 2, 3, 4] \n",
    "add(lst, 1) ➞ [1, 2, 3, 4, 1, 2, 3, 4, 1, 2, 3, 4, 1]\n",
    "remove(lst, 1, 12) ➞ [1]\n",
    "concat(lst, [3, 4]) ➞ [1, 3, 4]\n",
    "\"\"\"\n",
    "def repeat(lst, n):\n",
    "    l=lst[0:len(lst)]\n",
    "    for i in range(n-1):\n",
    "        lst.extend(l)\n",
    "    return lst\n",
    "\n",
    "def add(lst, n):\n",
    "    lst.append(n)\n",
    "    return lst\n",
    "\n",
    "def remove(lst,n1,n2):\n",
    "    for i in range(n1,n2+1):\n",
    "        lst.pop(n1)\n",
    "    return lst\n",
    "\n",
    "def concat(lst, lst1 ):\n",
    "    return lst + lst1\n",
    "    \n",
    "lst = [1, 2, 3, 4]\n",
    "print(f' {repeat(lst,3)} \\n {add(lst, 1)} \\n {remove(lst, 1, 12)} \\n {concat(lst, [3, 4])} ')"
   ]
  },
  {
   "cell_type": "code",
   "execution_count": 14,
   "id": "35e94fc3",
   "metadata": {},
   "outputs": [
    {
     "data": {
      "text/plain": [
       "{'black': 1, 'white': 3}"
      ]
     },
     "execution_count": 14,
     "metadata": {},
     "output_type": "execute_result"
    }
   ],
   "source": [
    "\"\"\"2. The classic game of Mastermind is played on a tray on which the Mastermind conceals a code and the Guesser has 10 tries \n",
    "to guess it. The code is a sequence of 4 (or 6, sometimes more) pegs of different colors. Each guess is a corresponding sequence\n",
    "of 4 (or more) pegs of different colors. A guess is \"correct\" when the color of every peg in the guess exactly matches the \n",
    "corresponding peg in the Mastermind's code.\n",
    "After each guess by the Guesser, the Mastermind will give a score comprising black & white pegs, not arranged in any order:\n",
    "   - Black peg == guess peg matches the color of a code peg in the same position.\n",
    "   - White peg == guess peg matches the color of a code peg in another position.\n",
    "Create a function that takes two strings, code and guess as arguments, and returns the score in a dictionary.\n",
    "   - The code and guess are strings of numeric digits\n",
    "   - The color of the pegs are represented by numeric digits\n",
    "   - no \"peg\" may be double-scored\n",
    "Examples\n",
    "guess_score(\"1423\", \"5678\") ➞ {\"black\": 0, \"white\": 0}\n",
    "guess_score(\"1423\", \"2222\") ➞ {\"black\": 1, \"white\": 0}\n",
    "guess_score(\"1423\", \"1234\") ➞ {\"black\": 1, \"white\": 3}\n",
    "guess_score(\"1423\", \"2211\") ➞ {\"black\": 0, \"white\": 2}\n",
    "\"\"\"\n",
    "def guess_score(s1,s2):\n",
    "    black=0;white=0\n",
    "    for count,i in enumerate(zip(s1,s2)):\n",
    "        if i[0]==i[1] :\n",
    "            black = black +1\n",
    "            s1=s1.replace(s1[count],'')\n",
    "            s2=s2.replace(s2[count],'')\n",
    "\n",
    "    for i in s1: \n",
    "        if i in set(s2):\n",
    "            white = white +1        \n",
    "    dict_guess = {\"black\":black,\"white\":white}\n",
    "    return dict_guess\n",
    "\n",
    "guess_score(\"1423\", \"1234\")"
   ]
  },
  {
   "cell_type": "code",
   "execution_count": 30,
   "id": "214a9005",
   "metadata": {},
   "outputs": [
    {
     "data": {
      "text/plain": [
       "[2, 5]"
      ]
     },
     "execution_count": 30,
     "metadata": {},
     "output_type": "execute_result"
    }
   ],
   "source": [
    "\"\"\"\n",
    "3. Create a function that takes a list lst and a number N and returns a list of two integers from lst whose product equals N.\n",
    "Examples\n",
    "two_product([1, 2, -1, 4, 5], 20) ➞ [4, 5]\n",
    "two_product([1, 2, 3, 4, 5], 10) ➞ [2, 5]\n",
    "two_product([100, 12, 4, 1, 2], 15) ➞ None\n",
    "\"\"\"\n",
    "def two_product(l,n):\n",
    "    for i in l:\n",
    "        for j in l :\n",
    "            if i!=j and i*j == n :\n",
    "                l=[i,j]\n",
    "                return sorted(l)\n",
    "    return 'None'\n",
    "            \n",
    "two_product([1, 2, 3, 4, 5], 10) "
   ]
  },
  {
   "cell_type": "code",
   "execution_count": 35,
   "id": "12f6685a",
   "metadata": {},
   "outputs": [
    {
     "data": {
      "text/plain": [
       "['10-02-2018_12:30', '10-02-2018_12:15', '10-02-2016_12:30']"
      ]
     },
     "execution_count": 35,
     "metadata": {},
     "output_type": "execute_result"
    }
   ],
   "source": [
    "\"\"\"4. In this challenge, sort a list containing a series of dates given as strings. Each date is given in the format \n",
    "DD-MM-YYYY_HH:MM:\n",
    "\"12-02-2012_13:44\"\n",
    "The priority of criteria used for sorting will be:\n",
    "  - Year - Month - Day - Hours - Minutes\n",
    "Given a list lst and a string mode, implement a function that returns:\n",
    "   - if mode is equal to \"ASC\", the list lst sorted in ascending order.\n",
    "   - if mode is equal to \"DSC\", the list lst sorted in descending order.\n",
    "Examples\n",
    "sort_dates([\"10-02-2018_12:30\", \"10-02-2016_12:30\", \"10-02-2018_12:15\"], \"ASC\") \n",
    "➞ [\"10-02-2016_12:30\", \"10-02-2018_12:15\", \"10-02-2018_12:30\"]\n",
    "sort_dates([\"10-02-2018_12:30\", \"10-02-2016_12:30\", \"10-02-2018_12:15\"], \"DSC\")\n",
    "➞ [\"10-02-2018_12:30\", \"10-02-2018_12:15\", \"10-02-2016_12:30\"]\n",
    "sort_dates([\"09-02-2000_10:03\", \"10-02-2000_18:29\", \"01-01-1999_00:55\"], \"ASC\") \n",
    "➞ [\"01-01-1999_00:55\", \"09-02-2000_10:03\", \"10-02-2000_18:29\"]\n",
    "\"\"\"\n",
    "def sort_dates(l,s):\n",
    "    if s == \"ASC\":\n",
    "        return sorted(l)\n",
    "    \n",
    "    elif s == 'DSC':\n",
    "        return sorted(l,reverse=True)\n",
    "    else:\n",
    "        return \"Write ASC OR DSC after l\"\n",
    "    \n",
    "sort_dates([\"10-02-2018_12:30\", \"10-02-2016_12:30\", \"10-02-2018_12:15\"], \"DSC\")"
   ]
  },
  {
   "cell_type": "code",
   "execution_count": 63,
   "id": "a5b9da27",
   "metadata": {},
   "outputs": [
    {
     "data": {
      "text/plain": [
       "['hoops', 'bot', 'bottom']"
      ]
     },
     "execution_count": 63,
     "metadata": {},
     "output_type": "execute_result"
    }
   ],
   "source": [
    "\"\"\"5. Write a function that selects all words that have all the same vowels (in any order and/or number) as the first word, \n",
    "including the first word.\n",
    "Examples\n",
    "same_vowel_group([\"toe\", \"ocelot\", \"maniac\"]) ➞ [\"toe\", \"ocelot\"]\n",
    "same_vowel_group([\"many\", \"carriage\", \"emit\", \"apricot\", \"animal\"]) ➞ [\"many\"]\n",
    "same_vowel_group([\"hoops\", \"chuff\", \"bot\", \"bottom\"]) ➞ [\"hoops\", \"bot\", \"bottom\"]\n",
    "\"\"\"\n",
    "def same_vowel_group(l):\n",
    "    vowels = ['a','e','i','o','u'];b=[]\n",
    "    for i in l:\n",
    "        a=[]\n",
    "        for j in vowels:\n",
    "            if j in set(i):\n",
    "                a.append(j)\n",
    "        b.append(a)\n",
    "\n",
    "    d=[]\n",
    "    d.append(l[0])\n",
    "    for count,i in enumerate(b[1:]):\n",
    "        if b[0] == i:\n",
    "            d.append(l[count+1])\n",
    "    return d\n",
    "\n",
    "same_vowel_group([\"hoops\", \"chuff\", \"bot\", \"bottom\"])"
   ]
  },
  {
   "cell_type": "code",
   "execution_count": 22,
   "id": "ce1f3efe",
   "metadata": {},
   "outputs": [
    {
     "data": {
      "text/plain": [
       "27965340"
      ]
     },
     "execution_count": 22,
     "metadata": {},
     "output_type": "execute_result"
    }
   ],
   "source": [
    "\"\"\"6. Create a function that takes a list of more than three numbers and returns the Least Common Multiple (LCM).\n",
    "Examples\n",
    "lcm_of_list([1, 2, 3, 4, 5, 6, 7, 8, 9, 10]) ➞ 2520\n",
    "lcm_of_list([13, 6, 17, 18, 19, 20, 37]) ➞ 27965340\n",
    "lcm_of_list([44, 64, 12, 17, 65]) ➞ 2333760\n",
    "\"\"\"\n",
    "def lcm_of_list(giv_l):\n",
    "    a=giv_l[0];b=giv_l[1]\n",
    "    l=[]\n",
    "    for i in range(1,min(a,b)+1):\n",
    "        if a%i==0 and b%i==0:\n",
    "            l.append(i)       \n",
    "        c=l[len(l)-1] \n",
    "    lcm_1 = int((a*b)/ c)\n",
    "\n",
    "    for j in giv_l[2:]:\n",
    "        b=j;l=[];a=lcm_1\n",
    "        for i in range(1,min(a,b)+1):\n",
    "            if a%i==0 and b%i==0:\n",
    "                l.append(i)       \n",
    "            c=l[len(l)-1] \n",
    "        lcm_1 = int((a*b)/ c)\n",
    "    return lcm_1\n",
    "\n",
    "lcm_of_list([13, 6, 17, 18, 19, 20, 37])"
   ]
  }
 ],
 "metadata": {
  "kernelspec": {
   "display_name": "Python 3",
   "language": "python",
   "name": "python3"
  },
  "language_info": {
   "codemirror_mode": {
    "name": "ipython",
    "version": 3
   },
   "file_extension": ".py",
   "mimetype": "text/x-python",
   "name": "python",
   "nbconvert_exporter": "python",
   "pygments_lexer": "ipython3",
   "version": "3.8.8"
  }
 },
 "nbformat": 4,
 "nbformat_minor": 5
}
