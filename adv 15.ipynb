{
 "cells": [
  {
   "cell_type": "code",
   "execution_count": 13,
   "id": "e72cfbc7",
   "metadata": {},
   "outputs": [
    {
     "data": {
      "text/plain": [
       "False"
      ]
     },
     "execution_count": 13,
     "metadata": {},
     "output_type": "execute_result"
    }
   ],
   "source": [
    "\"\"\"\n",
    "1. Write a function that returns True if a given name can generate an array of words.\n",
    "Examples\n",
    "anagram(\"Justin Bieber\", [\"injures\", \"ebb\", \"it\"]) ➞ True\n",
    "anagram(\"Natalie Portman\", [\"ornamental\", \"pita\"]) ➞ True\n",
    "anagram(\"Chris Pratt\", [\"chirps\", \"rat\"]) ➞ False\n",
    "# Not all letters are used\n",
    "anagram(\"Jeff Goldblum\", [\"jog\", \"meld\", \"bluffs\"]) ➞ False\n",
    "# \"s\" does not exist in the original name\n",
    "\"\"\"\n",
    "def anagram(s,l):\n",
    "    s=s.lower()\n",
    "    for i in l:\n",
    "        for j in i:\n",
    "            if j not in s:\n",
    "                return False\n",
    "    return True\n",
    "\n",
    "anagram(\"Jeff Goldblum\", [\"jog\", \"meld\", \"bluffs\"]) "
   ]
  },
  {
   "cell_type": "code",
   "execution_count": 49,
   "id": "c23a3ab9",
   "metadata": {},
   "outputs": [
    {
     "data": {
      "text/plain": [
       "[{'name': 'c', 'score': 115, 'reputation': 30},\n",
       " {'name': 'b', 'score': 90, 'reputation': 40},\n",
       " {'name': 'a', 'score': 100, 'reputation': 20}]"
      ]
     },
     "execution_count": 49,
     "metadata": {},
     "output_type": "execute_result"
    }
   ],
   "source": [
    "\"\"\"\n",
    "2. Given an array of users, each defined by an object with the following properties: name, score, reputation create a function \n",
    "that sorts the array to form the correct leaderboard.\n",
    "The leaderboard takes into consideration the score of each user of course, but an emphasis is put on their reputation in the \n",
    "community, so to get the trueScore, you should add the reputation multiplied by 2 to the score.\n",
    "Once you know the trueScore of each user, sort the array according to it in descending order.\n",
    "Examples\n",
    "leaderboards([\n",
    "  { \"name\": \"a\", \"score\": 100, \"reputation\": 20 },\n",
    "  { \"name\": \"b\", \"score\": 90, \"reputation\": 40 },\n",
    "  { \"name\": \"c\", \"score\": 115, \"reputation\": 30 },\n",
    "]) ➞ [\n",
    "  { \"name\": \"c\", \"score\": 115, \"reputation\": 30 },  # trueScore = 175\n",
    "  { \"name\": \"b\", \"score\": 90, \"reputation\": 40 },   # trueScore = 170\n",
    "  { \"name\": \"a\", \"score\": 100, \"reputation\": 20 }   # trueScore = 140\n",
    "]\n",
    "\"\"\"\n",
    "def leaderboards(l):\n",
    "    for i in l:\n",
    "        i['Truescore']=i['score']+2*i[\"reputation\"]\n",
    "    from operator import itemgetter\n",
    "    sort_l=sorted(l,key=itemgetter('Truescore'),reverse=True)\n",
    "    new_list = [{k: v for k, v in d.items() if k != 'Truescore'} for d in sort_l]\n",
    "    return new_list\n",
    "\n",
    "leaderboards([\n",
    "  { \"name\": \"a\", \"score\": 100, \"reputation\": 20 },\n",
    "  { \"name\": \"b\", \"score\": 90, \"reputation\": 40 },\n",
    "  { \"name\": \"c\", \"score\": 115, \"reputation\": 30 },\n",
    "])"
   ]
  },
  {
   "cell_type": "code",
   "execution_count": 62,
   "id": "81f5cc02",
   "metadata": {},
   "outputs": [
    {
     "data": {
      "text/plain": [
       "'-e\"--a--e-y--a----y---y!'"
      ]
     },
     "execution_count": 62,
     "metadata": {},
     "output_type": "execute_result"
    }
   ],
   "source": [
    "\"\"\"3. Create a function that, given a phrase and a number of letters guessed, returns a string with hyphens - for every letter \n",
    "of the phrase not guessed, and each letter guessed in place.\n",
    "Examples\n",
    "hangman(\"helicopter\", [\"o\", \"e\", \"s\"]) ➞ \"-e---o--e-\"\n",
    "hangman(\"tree\", [\"r\", \"t\", \"e\"]) ➞ \"tree\"\n",
    "hangman(\"Python rules\", [\"a\", \"n\", \"p\", \"r\", \"z\"]) ➞ \"P----n r----\"\n",
    "hangman(\"He\"s a very naughty boy!\", [\"e\", \"a\", \"y\"]) ➞ \"-e\"- a -e-y -a----y –y!\"\n",
    "\"\"\"\n",
    "def hangman(s,l):\n",
    "    exp = '\"!@#$%&*'\n",
    "    a=\"\"\n",
    "    for i in l:\n",
    "        a=a+i.upper()+i.lower()\n",
    "    for i in s:\n",
    "        if i not in a and i not in exp:\n",
    "            s=s.replace(i,\"-\")\n",
    "    return s\n",
    "\n",
    "hangman('He\"s a very naughty boy!', [\"e\", \"a\", \"y\"]) "
   ]
  },
  {
   "cell_type": "code",
   "execution_count": 80,
   "id": "779ad684",
   "metadata": {},
   "outputs": [
    {
     "data": {
      "text/plain": [
       "256"
      ]
     },
     "execution_count": 80,
     "metadata": {},
     "output_type": "execute_result"
    }
   ],
   "source": [
    "\"\"\"\n",
    "4. The Collatz sequence is as follows:\n",
    "  - Start with some given integer n.\n",
    "  - If it is even, the next number will be n divided by 2.\n",
    "  - If it is odd, multiply it by 3 and add 1 to make the next number.\n",
    "  - The sequence stops when it reaches 1.\n",
    "According to the Collatz conjecture, it will always reach 1. If that's true, you can construct a finite sequence \n",
    "following the aforementioned method for any given integer.\n",
    "Write a function that takes in an integer n and returns the highest integer in the corresponding Collatz sequence.\n",
    "Examples\n",
    "max_collatz(10) ➞ 16\n",
    "# Collatz sequence: 10, 5, 16, 8, 4, 2, 1\n",
    "max_collatz(32) ➞ 32\n",
    "# Collatz sequence: 32, 16, 8, 4, 2, 1\n",
    "max_collatz(85) ➞ 256\n",
    "# Collatz sequence: 85, 256, 128, 64, 32, 16, 8, 4, 2, 1\"\"\"\n",
    "def max_collatz(n):\n",
    "    l=[]\n",
    "    def collatz(num):\n",
    "        l.append(num)\n",
    "        if num == 1:\n",
    "            return 1\n",
    "        elif num % 2 == 0:\n",
    "            return collatz(num/2)\n",
    "        else:\n",
    "            return collatz(num*3+1)\n",
    "    collatz(n)\n",
    "    return max(l)\n",
    "\n",
    "max_collatz(85)"
   ]
  },
  {
   "cell_type": "code",
   "execution_count": 89,
   "id": "d8568338",
   "metadata": {},
   "outputs": [
    {
     "data": {
      "text/plain": [
       "[789, 563, 444, 22, 1, 5, 9]"
      ]
     },
     "execution_count": 89,
     "metadata": {},
     "output_type": "execute_result"
    }
   ],
   "source": [
    "\"\"\"\n",
    "5. Write a function that sorts a list of integers by their digit length in descending order,\n",
    "then settles ties by sorting numbers with the same digit length in ascending order.\n",
    "Examples\n",
    "digit_sort([77, 23, 5, 7, 101])\n",
    "➞ [101, 23, 77, 5, 7]\n",
    "digit_sort([1, 5, 9, 2, 789, 563, 444])\n",
    "➞ [444, 563, 789, 1, 2, 5, 9]\n",
    "digit_sort([53219, 3772, 564, 32, 1])\n",
    "➞ [53219, 3772, 564, 32, 1]\"\"\"\n",
    "def digit_sort(l):\n",
    "    return sorted(l,key=lambda i : len(str(i)),reverse=True)\n",
    "\n",
    "digit_sort([1, 5, 9, 22, 789, 563, 444])"
   ]
  }
 ],
 "metadata": {
  "kernelspec": {
   "display_name": "Python 3",
   "language": "python",
   "name": "python3"
  },
  "language_info": {
   "codemirror_mode": {
    "name": "ipython",
    "version": 3
   },
   "file_extension": ".py",
   "mimetype": "text/x-python",
   "name": "python",
   "nbconvert_exporter": "python",
   "pygments_lexer": "ipython3",
   "version": "3.8.8"
  }
 },
 "nbformat": 4,
 "nbformat_minor": 5
}
