{
 "cells": [
  {
   "cell_type": "code",
   "execution_count": 7,
   "id": "0f686a92",
   "metadata": {},
   "outputs": [
    {
     "data": {
      "text/plain": [
       "[12.0, 7.5, 14.5]"
      ]
     },
     "execution_count": 7,
     "metadata": {},
     "output_type": "execute_result"
    }
   ],
   "source": [
    "\"\"\"1. Given a list of numbers, create a function that removes 25% from every number in the list except the smallest number, \n",
    "and adds the total amount removed to the smallest number.\n",
    "Examples\n",
    "show_the_love([4, 1, 4]) ➞ [3, 3, 3]\n",
    "show_the_love([16, 10, 8]) ➞ [12, 7.5, 14.5]\n",
    "show_the_love([2, 100]) ➞ [27, 75]\"\"\"\n",
    "def show_the_love(l):\n",
    "    tot=0\n",
    "    d=[]\n",
    "    c=0\n",
    "    for i in l:\n",
    "        if i==min(l):\n",
    "            a=i\n",
    "            pos=c\n",
    "        else:\n",
    "            d.append(i-i*25/100)\n",
    "            tot=tot+i*25/100\n",
    "            c=c+1\n",
    "    a=a+tot\n",
    "    d.insert(pos,a)\n",
    "    return d\n",
    "\n",
    "show_the_love([16, 10, 8])"
   ]
  },
  {
   "cell_type": "code",
   "execution_count": 18,
   "id": "38d2988d",
   "metadata": {},
   "outputs": [
    {
     "data": {
      "text/plain": [
       "['enp', 'ahis', 'lov']"
      ]
     },
     "execution_count": 18,
     "metadata": {},
     "output_type": "execute_result"
    }
   ],
   "source": [
    "\"\"\"\n",
    "2. Create a function that takes in two words as input and returns a list of three elements, in the following order:\n",
    "   1.Shared letters between two words.\n",
    "   2.Letters unique to word 1.\n",
    "   3.Letters unique to word 2.\n",
    "Each element should have unique letters, and have each letter be alphabetically sorted.\n",
    "Examples\n",
    "letters(\"sharp\", \"soap\") ➞ [\"aps\", \"hr\", \"o\"]\n",
    "letters(\"board\", \"bored\") ➞ [\"bdor\", \"a\", \"e\"]\n",
    "letters(\"happiness\", \"envelope\") ➞ [\"enp\", \"ahis\", \"lov\"]\n",
    "letters(\"kerfuffle\", \"fluffy\") ➞ [\"flu\", \"ekr\", \"y\"]\n",
    "# Even with multiple matching letters (e.g. 3 f's), there should \n",
    "# only exist a single \"f\" in your first element.\n",
    "letters(\"match\", \"ham\") ➞ [\"ahm\", \"ct\", \"\"]\n",
    "# \"ham\" does not contain any letters that are not found already \n",
    "# in \"match\".\n",
    "\"\"\"\n",
    "def letters(a,b):\n",
    "    x=\"\"\n",
    "    for i in a:\n",
    "        if i in b:\n",
    "            x=x+i\n",
    "    y=\"\"\n",
    "    for i in a:\n",
    "        if i not in b:\n",
    "            y=y+i\n",
    "    z=\"\"\n",
    "    for i in b:\n",
    "        if i not in a:\n",
    "            z=z+i\n",
    "    d=[]\n",
    "    l=[set(x),set(y),set(z)]\n",
    "    for i in l:\n",
    "        c=\"\"\n",
    "        for j in sorted(i):\n",
    "            c=c+j\n",
    "        d.append(c)\n",
    "    return d\n",
    "\n",
    "letters(\"happiness\", \"envelope\")"
   ]
  },
  {
   "cell_type": "code",
   "execution_count": 3,
   "id": "55915d00",
   "metadata": {},
   "outputs": [
    {
     "data": {
      "text/plain": [
       "[[1, 7], [2, 6], [3, 5], [4, 4]]"
      ]
     },
     "execution_count": 3,
     "metadata": {},
     "output_type": "execute_result"
    }
   ],
   "source": [
    "\"\"\"\n",
    "3. Write a function that pairs the first number in an array with the last, the second number with the second to last, etc.\n",
    "Examples\n",
    "pairs([1, 2, 3, 4, 5, 6, 7]) ➞ [[1, 7], [2, 6], [3, 5], [4, 4]]\n",
    "pairs([1, 2, 3, 4, 5, 6]) ➞ [[1, 6], [2, 5], [3, 4]]\n",
    "pairs([5, 9, 8, 1, 2]) ➞ [[5, 2], [9, 1], [8, 8]]\n",
    "pairs([]) ➞ []\n",
    "\"\"\"\n",
    "def pairs(l):\n",
    "    d=[]\n",
    "    if len(l) % 2 !=0:\n",
    "        for i in range(int(len(l)/2)+1):\n",
    "            d.append([l[i],l[-(i+1)]])\n",
    "    else:\n",
    "        for i in range(int(len(l)/2)):\n",
    "            d.append([l[i],l[-(i+1)]])\n",
    "    return d\n",
    "\n",
    "pairs([1, 2, 3, 4, 5, 6, 7])"
   ]
  },
  {
   "cell_type": "code",
   "execution_count": 21,
   "id": "8c7b2ae1",
   "metadata": {},
   "outputs": [
    {
     "data": {
      "text/plain": [
       "-1"
      ]
     },
     "execution_count": 21,
     "metadata": {},
     "output_type": "execute_result"
    }
   ],
   "source": [
    "\"\"\"\n",
    "4. Write a function that adds two numbers. The catch, however, is that the numbers will be strings.\n",
    "Examples\n",
    "add_str_nums(\"4\", \"5\") ➞ \"9\"\n",
    "add_str_nums(\"abcdefg\", \"3\") ➞ \"-1\"\n",
    "add_str_nums(\"1\", \"\") ➞ \"1\"\n",
    "add_str_nums(\"1874682736267235927359283579235789257\", \"32652983572985729\") ➞ \"1874682736267235927391936562808774986\"\n",
    "\"\"\"\n",
    "def add_str_nums(a,b):\n",
    "    if a.isalpha() == True or b.isalpha() == True:\n",
    "        return -1\n",
    "    elif a.isnumeric()==True and b.isnumeric() ==True:\n",
    "        a=int(a);b=int(b)\n",
    "        return str(a+b) \n",
    "    elif a.isnumeric()==True and b.isnumeric() ==False:\n",
    "        return a \n",
    "    else:\n",
    "        return b \n",
    "\n",
    "add_str_nums(\"abcdefg\", \"3\")"
   ]
  },
  {
   "cell_type": "code",
   "execution_count": 9,
   "id": "70b44300",
   "metadata": {},
   "outputs": [
    {
     "data": {
      "text/plain": [
       "'This is a mixed up string.'"
      ]
     },
     "execution_count": 9,
     "metadata": {},
     "output_type": "execute_result"
    }
   ],
   "source": [
    "\"\"\"5. lPaeesh le pemu mnxit ehess rtnisg! Oh, sorry, that was supposed to say: Please help me unmix these strings!\n",
    "Somehow my strings have all become mixed up; every pair of characters has been swapped. Help me undo this so I can understand\n",
    "my strings again.\n",
    "Examples\n",
    "unmix(\"123456\") ➞ \"214365\"\n",
    "unmix(\"hTsii  s aimex dpus rtni.g\") ➞ \"This is a mixed up string.\"\n",
    "unmix(\"badce\") ➞ \"abcde\"\n",
    "\"\"\"\n",
    "def unmix(s):\n",
    "        k=\"\"\n",
    "        if len(s)%2==0:\n",
    "            for c in range(len(s)):\n",
    "                if c%2==0:\n",
    "                    k=k+s[c+1]\n",
    "                else:\n",
    "                    k=k+s[c-1]\n",
    "            return k\n",
    "        else:\n",
    "            for c in range(len(s)-1):\n",
    "                if c%2==0:\n",
    "                    k=k+s[c+1]\n",
    "                else:\n",
    "                    k=k+s[c-1]\n",
    "            k=k+s[-1]\n",
    "            return k\n",
    "\n",
    "unmix(\"hTsii  s aimex dpus rtni.g\") "
   ]
  }
 ],
 "metadata": {
  "kernelspec": {
   "display_name": "Python 3",
   "language": "python",
   "name": "python3"
  },
  "language_info": {
   "codemirror_mode": {
    "name": "ipython",
    "version": 3
   },
   "file_extension": ".py",
   "mimetype": "text/x-python",
   "name": "python",
   "nbconvert_exporter": "python",
   "pygments_lexer": "ipython3",
   "version": "3.8.8"
  }
 },
 "nbformat": 4,
 "nbformat_minor": 5
}
