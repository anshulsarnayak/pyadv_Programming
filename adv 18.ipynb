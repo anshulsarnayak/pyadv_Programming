{
 "cells": [
  {
   "cell_type": "code",
   "execution_count": 12,
   "id": "0d35d843",
   "metadata": {},
   "outputs": [
    {
     "data": {
      "text/plain": [
       "[200, 10500]"
      ]
     },
     "execution_count": 12,
     "metadata": {},
     "output_type": "execute_result"
    }
   ],
   "source": [
    "\"\"\"1. A robot has been given a list of movement instructions. Each instruction is either left, right, up or down, \n",
    "followed by a distance to move. The robot starts at [0, 0]. You want to calculate where the robot will end up and\n",
    "return its final position as a list.\n",
    "To illustrate, if the robot is given the following instructions:\n",
    "[\"right 10\", \"up 50\", \"left 30\", \"down 10\"]\n",
    "It will end up 20 left and 40 up from where it started, so we return [-20, 40].\n",
    "Examples\n",
    "track_robot([\"right 10\", \"up 50\", \"left 30\", \"down 10\"]) ➞ [-20, 40]\n",
    "track_robot([]) ➞ [0, 0]\n",
    "// If there are no instructions, the robot doesn't move.\n",
    "track_robot([\"right 100\", \"right 100\", \"up 500\", \"up 10000\"]) ➞ [200, 10500]\n",
    "\"\"\"\n",
    "def track_robot(l):\n",
    "    b=[0,0]\n",
    "    if l==[]:\n",
    "        return b\n",
    "    else:\n",
    "        for i in l:\n",
    "            a=i.split(sep=\" \")\n",
    "            if a[0]==\"right\":\n",
    "                b[0]=b[0]+int(a[1])\n",
    "            elif a[0]==\"left\":\n",
    "                b[0]=b[0]-int(a[1])\n",
    "            elif a[0]==\"up\":\n",
    "                b[1]=b[1]+int(a[1])\n",
    "            else:\n",
    "                b[1]=b[1]-int(a[1])\n",
    "\n",
    "        return b\n",
    "\n",
    "track_robot([\"right 100\", \"right 100\", \"up 500\", \"up 10000\"])"
   ]
  },
  {
   "cell_type": "code",
   "execution_count": 14,
   "id": "b3689658",
   "metadata": {},
   "outputs": [
    {
     "data": {
      "text/plain": [
       "'Strengths'"
      ]
     },
     "execution_count": 14,
     "metadata": {},
     "output_type": "execute_result"
    }
   ],
   "source": [
    "\"\"\"\n",
    "2. Write a function that will return the longest word in a sentence. In cases where more than one word is found, return the \n",
    "first one.\n",
    "Examples\n",
    "find_longest(\"A thing of beauty is a joy forever.\") ➞ \"forever\"\n",
    "find_longest(\"Forgetfulness is by all means powerless!\") ➞ \"forgetfulness\"\n",
    "find_longest(\"\\\"Strengths\\\" is the longest and most commonly used word that contains only a single vowel.\") ➞ \"strengths\"\n",
    "\"\"\"\n",
    "def find_longest(s):\n",
    "    a='.!\\\"'\n",
    "    for i in s:\n",
    "        if i in a:\n",
    "            s=s.replace(i,'')\n",
    "    l=s.split(sep=\" \")\n",
    "    max_=0\n",
    "    b=[]\n",
    "    for i in l:\n",
    "        if len(i)>max_:\n",
    "            max_=len(i)\n",
    "            b.append(i)\n",
    "    if len(b)==1:\n",
    "        return b[0]\n",
    "    else:\n",
    "        return b[-1]\n",
    "\n",
    "find_longest(\"\\\"Strengths\\\" is the longest and most commonly used word that contains only a single vowel.\")"
   ]
  },
  {
   "cell_type": "code",
   "execution_count": 17,
   "id": "1bdaa28b",
   "metadata": {},
   "outputs": [
    {
     "data": {
      "text/plain": [
       "'qualified'"
      ]
     },
     "execution_count": 17,
     "metadata": {},
     "output_type": "execute_result"
    }
   ],
   "source": [
    "\"\"\"\n",
    "3. Create a function to check if a candidate is qualified in an imaginary coding interview of an imaginary tech startup.\n",
    "The criteria for a candidate to be qualified in the coding interview is:\n",
    "   1. The candidate should have complete all the questions.\n",
    "   2. The maximum time given to complete the interview is 120 minutes.\n",
    "   3. The maximum time given for very easy questions is 5 minutes each.\n",
    "   4. The maximum time given for easy questions is 10 minutes each.\n",
    "   5. The maximum time given for medium questions is 15 minutes each.\n",
    "   6. The maximum time given for hard questions is 20 minutes each.\n",
    "If all the above conditions are satisfied, return \"qualified\", else return \"disqualified\".\n",
    "You will be given a list of time taken by a candidate to solve a particular question and the total time taken by the candidate\n",
    "to complete the interview.\n",
    "Given a list , in a true condition will always be in the format [very easy, very easy, easy, easy, medium, medium, hard, hard].\n",
    "The maximum time to complete the interview includes a buffer time of 20 minutes.\n",
    "Examples\n",
    "interview([5, 5, 10, 10, 15, 15, 20, 20], 120) ➞ \"qualified\"\n",
    "interview([2, 3, 8, 6, 5, 12, 10, 18], 64) ➞  \"qualified\"\n",
    "interview([5, 5, 10, 10, 25, 15, 20, 20], 120) ➞ \"disqualified\"\n",
    "# Exceeded the time limit for a medium question.\n",
    "interview([5, 5, 10, 10, 15, 15, 20], 120) ➞ \"disqualified\"\n",
    "# Did not complete all the questions.\n",
    "interview([5, 5, 10, 10, 15, 15, 20, 20], 130) ➞ \"disqualified\"\n",
    "# Solved all the questions in their respected time limits but exceeded the total time limit of the interview.\n",
    "\"\"\"\n",
    "def interview(l,a):\n",
    "    for i in range(len(l)):\n",
    "        if i == 0 or i==1:\n",
    "            if l[i]>5:\n",
    "                return \"disqualified\"\n",
    "        if i == 2 or i==3:\n",
    "            if l[i]>10:\n",
    "                return \"disqualified\"\n",
    "        if i == 4 or i==5:\n",
    "            if l[i]>15:\n",
    "                return \"disqualified\"\n",
    "        if i == 6 or i==7:\n",
    "            if l[i]>20:\n",
    "                return \"disqualified\"\n",
    "    if a>120:\n",
    "        return \"disqualified\"\n",
    "    return \"qualified\" \n",
    "\n",
    "interview([2, 3, 8, 6, 5, 12, 10, 18], 64) "
   ]
  },
  {
   "cell_type": "code",
   "execution_count": 14,
   "id": "812625e4",
   "metadata": {},
   "outputs": [
    {
     "data": {
      "text/plain": [
       "[[2, 3, 4], [5, 6, 7], [8]]"
      ]
     },
     "execution_count": 14,
     "metadata": {},
     "output_type": "execute_result"
    }
   ],
   "source": [
    "\"\"\"4. Write a function that divides a list into chunks of size n, where n is the length of each chunk.\n",
    "Examples\n",
    "chunkify([2, 3, 4, 5], 2) ➞ [[2, 3], [4, 5]]\n",
    "chunkify([2, 3, 4, 5, 6], 2) ➞ [[2, 3], [4, 5], [6]]\n",
    "chunkify([2, 3, 4, 5, 6, 7], 3) ➞ [[2, 3, 4], [5, 6, 7]]\n",
    "chunkify([2, 3, 4, 5, 6, 7], 1) ➞ [[2], [3], [4], [5], [6], [7]]\n",
    "chunkify([2, 3, 4, 5, 6, 7], 7) ➞ [[2, 3, 4, 5, 6, 7]]\n",
    "\"\"\"\n",
    "def chunkify(l,n):\n",
    "    a=[]\n",
    "    for i in range(len(l)//n+len(l)%n):\n",
    "        b=[]\n",
    "        for j in range(n):\n",
    "            if len(l)==0:\n",
    "                break\n",
    "            else:\n",
    "                b.append(l[0])\n",
    "                l.pop(0)\n",
    "        if b == []:\n",
    "            pass\n",
    "        else:\n",
    "            a.append(b)\n",
    "    return a\n",
    "\n",
    "chunkify([2, 3, 4, 5, 6, 7,8],3)"
   ]
  },
  {
   "cell_type": "code",
   "execution_count": 24,
   "id": "d63b2566",
   "metadata": {},
   "outputs": [
    {
     "data": {
      "text/plain": [
       "['1.99', '5.99', '0.75']"
      ]
     },
     "execution_count": 24,
     "metadata": {},
     "output_type": "execute_result"
    }
   ],
   "source": [
    "\"\"\"5. You are given a list of strings consisting of grocery items, with prices in parentheses. Return a list of prices \n",
    "in float format.\n",
    "Examples\n",
    "get_prices([\"salad ($4.99)\"]) ➞ [4.99]\n",
    "get_prices([\n",
    "  \"artichokes ($1.99)\",\n",
    "  \"rotiserrie chicken ($5.99)\",\n",
    "  \"gum ($0.75)\"\n",
    "])\n",
    "➞ [1.99, 5.99, 0.75]\n",
    "get_prices([\n",
    "  \"ice cream ($5.99)\",\n",
    "  \"banana ($0.20)\",\n",
    "  \"sandwich ($8.50)\",\n",
    "  \"soup ($1.99)\"\n",
    "])\n",
    "➞ [5.99, 0.2, 8.50, 1.99]\n",
    "\"\"\"\n",
    "def get_prices(l):\n",
    "    d=[]\n",
    "    for i in l:\n",
    "        i=i.split(sep=\"$\")\n",
    "        d.append(i[1][:4])\n",
    "    return d\n",
    "\n",
    "get_prices([\n",
    "  \"artichokes ($1.99)\",\n",
    "  \"rotiserrie chicken ($5.99)\",\n",
    "  \"gum ($0.75)\"\n",
    "])"
   ]
  }
 ],
 "metadata": {
  "kernelspec": {
   "display_name": "Python 3",
   "language": "python",
   "name": "python3"
  },
  "language_info": {
   "codemirror_mode": {
    "name": "ipython",
    "version": 3
   },
   "file_extension": ".py",
   "mimetype": "text/x-python",
   "name": "python",
   "nbconvert_exporter": "python",
   "pygments_lexer": "ipython3",
   "version": "3.8.8"
  }
 },
 "nbformat": 4,
 "nbformat_minor": 5
}
