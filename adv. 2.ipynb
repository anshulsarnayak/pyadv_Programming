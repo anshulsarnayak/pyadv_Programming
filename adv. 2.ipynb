{
 "cells": [
  {
   "cell_type": "code",
   "execution_count": 7,
   "metadata": {},
   "outputs": [
    {
     "data": {
      "text/plain": [
       "141"
      ]
     },
     "execution_count": 7,
     "metadata": {},
     "output_type": "execute_result"
    }
   ],
   "source": [
    "\"\"\"\n",
    "1. Write a function that takes a positive integer num and calculates how many dots exist in a pentagonal shape around the center\n",
    "dot on the Nth iteration.In the image below you can see the first iteration is only a single dot. \n",
    "On the second, there are 6 dots. On the third, there are 16 dots, and on the fourth there are 31 dots.\n",
    "Return the number of dots that exist in the whole pentagon on the Nth iteration.\n",
    "Examples\n",
    "pentagonal(1) ➞ 1\n",
    "pentagonal(2) ➞ 6\n",
    "pentagonal(3) ➞ 16\n",
    "pentagonal(8) ➞ 141\n",
    "\"\"\"\n",
    "def pentagonal(n):\n",
    "    if n==1:\n",
    "        return 1\n",
    "    else:\n",
    "        tot=pentagonal(n-1)+(5*(n-1))\n",
    "    return tot\n",
    "\n",
    "pentagonal(8)"
   ]
  },
  {
   "cell_type": "code",
   "execution_count": 17,
   "metadata": {},
   "outputs": [
    {
     "data": {
      "text/plain": [
       "'0c0pl0aca'"
      ]
     },
     "execution_count": 17,
     "metadata": {},
     "output_type": "execute_result"
    }
   ],
   "source": [
    "\"\"\"\n",
    "2.  Make a function that encrypts a given input with these steps:\n",
    "Input: \"apple\"\n",
    "Step 1: Reverse the input: \"elppa\"\n",
    "Step 2: Replace all vowels using the following chart:\n",
    "a => 0\n",
    "e => 1\n",
    "i => 2\n",
    "o => 2\n",
    "u => 3\n",
    "# \"1lpp0\"\n",
    "Step 3: Add \"aca\" to the end of the word: \"1lpp0aca\"\n",
    "Output: \"1lpp0aca\"\n",
    "Examples\n",
    "encrypt(\"banana\") ➞ \"0n0n0baca\"\n",
    "encrypt(\"karaca\") ➞ \"0c0r0kaca\"\n",
    "encrypt(\"burak\") ➞ \"k0r3baca\"\n",
    "encrypt(\"alpaca\") ➞ \"0c0pl0aca\"\n",
    "\"\"\"\n",
    "def encrypt(s):\n",
    "    s=s[::-1]\n",
    "    d={'a': 0,'e' : 1,'i' : 2,'o' : 2,'u' : 3}\n",
    "    for i in s:\n",
    "        if i in d:\n",
    "            s=s.replace(i,str(d[i]))\n",
    "    return s+'aca'\n",
    "\n",
    "encrypt(\"alpaca\")"
   ]
  },
  {
   "cell_type": "code",
   "execution_count": 31,
   "metadata": {},
   "outputs": [
    {
     "data": {
      "text/plain": [
       "True"
      ]
     },
     "execution_count": 31,
     "metadata": {},
     "output_type": "execute_result"
    }
   ],
   "source": [
    "\"\"\"\n",
    "3. Given the month and year as numbers, return whether that month contains a Friday 13th.\n",
    "(i.e You can check Python's datetime module)\n",
    "Examples\n",
    "has_friday_13(3, 2020) ➞ True\n",
    "has_friday_13(10, 2017) ➞ True\n",
    "has_friday_13(1, 1985) ➞ False\"\"\"\n",
    "def has_friday_13(a,b):\n",
    "    c=13\n",
    "    import calendar\n",
    "    if calendar.weekday(b,a,c)==4:\n",
    "        return True\n",
    "    else:\n",
    "        return False\n",
    "\n",
    "has_friday_13(3, 2020)"
   ]
  },
  {
   "cell_type": "code",
   "execution_count": 2,
   "metadata": {},
   "outputs": [
    {
     "data": {
      "text/plain": [
       "2"
      ]
     },
     "execution_count": 2,
     "metadata": {},
     "output_type": "execute_result"
    }
   ],
   "source": [
    "\"\"\"\n",
    "4. Write a regular expression that will help us count how many bad cookies are produced every day.\n",
    "You must use RegEx negative lookbehind.\n",
    "Example\n",
    "lst = [\"bad cookie\", \"good cookie\", \"bad cookie\", \"good cookie\", \"good cookie\"]\n",
    "pattern = \"yourregularexpressionhere\"\n",
    "len(re.findall(pattern, \", \".join(lst))) ➞ 2\n",
    "\"\"\"\n",
    "import re\n",
    "lst = [\"bad cookie\", \"good cookie\", \"bad cookie\", \"good cookie\", \"good cookie\"]\n",
    "pattern = re.compile(r'bad cookie')\n",
    "len(re.findall(pattern, \", \".join(lst)))"
   ]
  },
  {
   "cell_type": "code",
   "execution_count": 15,
   "metadata": {},
   "outputs": [
    {
     "data": {
      "text/plain": [
       "{'arm', 'chairs', 'pencil'}"
      ]
     },
     "execution_count": 15,
     "metadata": {},
     "output_type": "execute_result"
    }
   ],
   "source": [
    "\"\"\"\n",
    "5. Given a list of words in the singular form, return a set of those words in the plural form\n",
    "if they appear more than once in the list.\n",
    "Examples\n",
    "pluralize([\"cow\", \"pig\", \"cow\", \"cow\"]) ➞ { \"cows\", \"pig\" }\n",
    "pluralize([\"table\", \"table\", \"table\"]) ➞ { \"tables\" }\n",
    "pluralize([\"chair\", \"pencil\", \"arm\"]) ➞ { \"chair\", \"pencil\", \"arm\" }\n",
    "\"\"\"\n",
    "def pluralize(l):\n",
    "    s=set()\n",
    "    for i in l:\n",
    "        if l.count(i)>1:\n",
    "            s.add(i+'s')\n",
    "        else:\n",
    "            s.add(i)\n",
    "    return s\n",
    "\n",
    "pluralize([\"chair\", \"pencil\", \"arm\",\"chair\"])"
   ]
  }
 ],
 "metadata": {
  "kernelspec": {
   "display_name": "Python 3",
   "language": "python",
   "name": "python3"
  },
  "language_info": {
   "codemirror_mode": {
    "name": "ipython",
    "version": 3
   },
   "file_extension": ".py",
   "mimetype": "text/x-python",
   "name": "python",
   "nbconvert_exporter": "python",
   "pygments_lexer": "ipython3",
   "version": "3.8.8"
  }
 },
 "nbformat": 4,
 "nbformat_minor": 4
}
