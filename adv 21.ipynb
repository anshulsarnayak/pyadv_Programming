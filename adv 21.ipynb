{
 "cells": [
  {
   "cell_type": "code",
   "execution_count": 2,
   "id": "678fbb9d",
   "metadata": {},
   "outputs": [
    {
     "data": {
      "text/plain": [
       "2"
      ]
     },
     "execution_count": 2,
     "metadata": {},
     "output_type": "execute_result"
    }
   ],
   "source": [
    "\"\"\"\n",
    "1. Given a sentence, return the number of words which have the same first and last letter.\n",
    "Examples\n",
    "count_same_ends(\"Pop! goes the balloon\") ➞ 1\n",
    "count_same_ends(\"And the crowd goes wild!\") ➞ 0\n",
    "count_same_ends(\"No I am not in a gang.\") ➞ 1\n",
    "\"\"\"\n",
    "def count_same_ends(s):\n",
    "    a=\"'!.?\"\n",
    "    for i in s:\n",
    "        if i in a:\n",
    "            s=s.replace(i,'')\n",
    "    s=s.lower()\n",
    "    s=s.split(sep=' ')\n",
    "    same_end=0\n",
    "    for i in s:\n",
    "        if len(i)>1:\n",
    "            if i[0] ==  i[-1]:\n",
    "                same_end=same_end+1\n",
    "    return same_end\n",
    "\n",
    "count_same_ends(\"Pop! goesg the balloon\")"
   ]
  },
  {
   "cell_type": "code",
   "execution_count": 40,
   "id": "b315fd5e",
   "metadata": {},
   "outputs": [
    {
     "data": {
      "text/plain": [
       "'Xsirhgnzh rh gsvv 25gs lu Wvxvnyvi.'"
      ]
     },
     "execution_count": 40,
     "metadata": {},
     "output_type": "execute_result"
    }
   ],
   "source": [
    "\"\"\"2. The Atbash cipher is an encryption method in which each letter of a word is replaced with its \"mirror\" letter in the \n",
    "alphabet: A <=> Z; B <=> Y; C <=> X; etc.\n",
    "Create a function that takes a string and applies the Atbash cipher to it.\n",
    "Examples\n",
    "atbash(\"apple\") ➞ \"zkkov\"\n",
    "atbash(\"Hello world!\") ➞ \"Svool dliow!\"\n",
    "atbash(\"Christmas is the 25th of December\") ➞ \"Xsirhgnzh rh gsv 25gs lu Wvxvnyvi\"\n",
    "\"\"\"\n",
    "def atbash(s):\n",
    "    l1='abcdefghijklmnopqrstuvwxyz'\n",
    "    l1=[i for i in l1]\n",
    "    l2=[i.upper() for i in l1]\n",
    "    l11=l1[::-1]\n",
    "    l22=l2[::-1]\n",
    "    a=dict(zip(l1+l2,l11+l22))\n",
    "    c=\"\"\n",
    "    for i in s:\n",
    "        if i in a.keys():\n",
    "            c=c+a[i]\n",
    "        else:\n",
    "            c=c+i\n",
    "\n",
    "    return c\n",
    "\n",
    "atbash(\"Christmas is thee 25th of December.\")"
   ]
  },
  {
   "cell_type": "code",
   "execution_count": 47,
   "id": "a496968f",
   "metadata": {},
   "outputs": [
    {
     "name": "stdout",
     "output_type": "stream",
     "text": [
      "John Major 178 Italian\n"
     ]
    }
   ],
   "source": [
    "\"\"\"3. Create a class Employee that will take a full name as argument, as well as a set of none, one or more keywords.\n",
    "Each instance should have a name and a lastname attributes plus one more attribute for each of the keywords, if any.\n",
    "Examples\n",
    "john = Employee(\"John Doe\")\n",
    "mary = Employee(\"Mary Major\", salary=120000)\n",
    "richard = Employee(\"Richard Roe\", salary=110000, height=178)\n",
    "giancarlo = Employee(\"Giancarlo Rossi\", salary=115000, height=182, nationality=\"Italian\")\n",
    "john.name ➞ \"John\"\n",
    "mary.lastname ➞ \"Major\"\n",
    "richard.height ➞ 178\n",
    "giancarlo.nationality ➞ \"Italian\"\n",
    "\"\"\"\n",
    "class Employee:\n",
    "    def __init__(self,nam,salary=0,height=0,nationality=0):\n",
    "        nam=nam.split(sep=\" \")\n",
    "        self.name=nam[0]\n",
    "        self.lastname = nam[1]\n",
    "        self.salary = salary\n",
    "        self.height = height\n",
    "        self.nationality = nationality\n",
    "        \n",
    "john = Employee(\"John Doe\")\n",
    "mary = Employee(\"Mary Major\", salary=120000)\n",
    "richard = Employee(\"Richard Roe\", salary=110000, height=178)\n",
    "giancarlo = Employee(\"Giancarlo Rossi\", salary=115000, height=182, nationality=\"Italian\")\n",
    "\n",
    "print(john.name ,\n",
    "mary.lastname ,\n",
    "richard.height,\n",
    "giancarlo.nationality )"
   ]
  },
  {
   "cell_type": "code",
   "execution_count": 13,
   "id": "902b991e",
   "metadata": {},
   "outputs": [
    {
     "data": {
      "text/plain": [
       "True"
      ]
     },
     "execution_count": 13,
     "metadata": {},
     "output_type": "execute_result"
    }
   ],
   "source": [
    "\"\"\"4. Create a function that determines whether each seat can \"see\" the front-stage. A number can \"see\" the front-stage if it\n",
    "is strictly greater than the number before it.\n",
    "Everyone can see the front-stage in the example below:\n",
    "# FRONT STAGE\n",
    "[[1, 2, 3, 2, 1, 1],\n",
    "[2, 4, 4, 3, 2, 2],\n",
    "[5, 5, 5, 5, 4, 4],\n",
    "[6, 6, 7, 6, 5, 5]]\n",
    "# Starting from the left, the 6 > 5 > 2 > 1, so all numbers can see.\n",
    "# 6 > 5 > 4 > 2 - so all numbers can see, etc.\n",
    "Not everyone can see the front-stage in the example below:\n",
    "# FRONT STAGE\n",
    "[[1, 2, 3, 2, 1, 1], \n",
    "[2, 4, 4, 3, 2, 2], \n",
    "[5, 5, 5, 10, 4, 4], \n",
    "[6, 6, 7, 6, 5, 5]]\n",
    "# The 10 is directly in front of the 6 and blocking its view.\n",
    "The function should return True if every number can see the front-stage, and False if even a single number cannot.\n",
    "Examples\n",
    "can_see_stage([\n",
    "  [1, 2, 3],\n",
    "  [4, 5, 6],\n",
    "  [7, 8, 9]\n",
    "]) ➞ True\n",
    "can_see_stage([\n",
    "  [0, 0, 0],\n",
    "  [1, 1, 1],\n",
    "  [2, 2, 2]\n",
    "]) ➞ True\n",
    "can_see_stage([\n",
    "  [2, 0, 0], \n",
    "  [1, 1, 1], \n",
    "  [2, 2, 2]\n",
    "]) ➞ False\n",
    "can_see_stage([\n",
    "  [1, 0, 0],\n",
    "  [1, 1, 1],\n",
    "  [2, 2, 2]\n",
    "]) ➞ False\n",
    "# Number must be strictly smaller than \n",
    "# the number directly behind it.\n",
    "\"\"\"\n",
    "def can_see_stage(l):\n",
    "    a=[]\n",
    "    for j in range(len(l)):\n",
    "        b=[]\n",
    "        for i in range(len(l)):\n",
    "            b.append(l[i][j])\n",
    "        a.append(b)    \n",
    "    d=0\n",
    "    for i in a:\n",
    "        for j in range(len(i)-1):\n",
    "            if i[j] == i [j+1]:\n",
    "                return  False\n",
    "\n",
    "        if sorted(i) ==i:\n",
    "            d=d+1\n",
    "\n",
    "    if d == len(a):\n",
    "        return True\n",
    "    else:\n",
    "        return False\n",
    "    \n",
    "can_see_stage(\n",
    "[[1, 2, 3, 2, 1, 1],\n",
    "[2, 4, 4, 3, 2, 2],\n",
    "[5, 5, 5, 5, 4, 4],\n",
    "[6, 6, 7, 6, 5, 5]])"
   ]
  },
  {
   "cell_type": "code",
   "execution_count": 10,
   "id": "0a7ac8ab",
   "metadata": {},
   "outputs": [
    {
     "name": "stdout",
     "output_type": "stream",
     "text": [
      "['bacon', 'parmesan', 'ham'] \n",
      " ['spinach', 'olives', 'mushroom'] \n",
      " 1 \n",
      " 2\n"
     ]
    }
   ],
   "source": [
    "\"\"\"\n",
    "5. Create a Pizza class with the attributes order_number and ingredients (which is given as a list). Only the ingredients will \n",
    "be given as input.\n",
    "You should also make it so that its possible to choose a ready made pizza flavour rather than typing out the ingredients \n",
    "manually! As well as creating this Pizza class, hard-code the following pizza flavours.\n",
    "Name\t                    Ingredients\n",
    "hawaiian\t          ham, pineapple\n",
    "meat_festival\tbeef, meatball, bacon\n",
    "garden_feast\tspinach, olives, mushroom\n",
    "Examples\n",
    "p1 = Pizza([\"bacon\", \"parmesan\", \"ham\"])    # order 1\n",
    "p2 = Pizza.garden_feast()                  # order 2\n",
    "p1.ingredients ➞ [\"bacon\", \"parmesan\", \"ham\"]\n",
    "p2.ingredients ➞ [\"spinach\", \"olives\", \"mushroom\"]\n",
    "p1.order_number ➞ 1\n",
    "p2.order_number ➞ 2\n",
    "\"\"\"\n",
    "class Pizza:\n",
    "    order_number=0\n",
    "    def __init__(self,ingredients=0):\n",
    "        self.__class__.order_number=self.__class__.order_number +1\n",
    "        self.order_number = self.__class__.order_number\n",
    "        self.ingredients = ingredients\n",
    "    \n",
    "    def garden_feast(self):\n",
    "        self.ingredients=[\"spinach\", \"olives\", \"mushroom\"]\n",
    "        \n",
    "    def meat_festival(self):\n",
    "        self.ingredients=['beef, meatball, bacon']\n",
    "    \n",
    "    def hawaiian(self):\n",
    "        self.ingredients=['ham, pineapple']\n",
    "         \n",
    "p1 = Pizza([\"bacon\", \"parmesan\", \"ham\"])   \n",
    "                                        \n",
    "p2=Pizza()\n",
    "p2.garden_feast()\n",
    "\n",
    "print(\n",
    "p1.ingredients ,'\\n',\n",
    "p2.ingredients ,'\\n',\n",
    "p1.order_number,'\\n',\n",
    "p2.order_number\n",
    ")"
   ]
  }
 ],
 "metadata": {
  "kernelspec": {
   "display_name": "Python 3",
   "language": "python",
   "name": "python3"
  },
  "language_info": {
   "codemirror_mode": {
    "name": "ipython",
    "version": 3
   },
   "file_extension": ".py",
   "mimetype": "text/x-python",
   "name": "python",
   "nbconvert_exporter": "python",
   "pygments_lexer": "ipython3",
   "version": "3.8.8"
  }
 },
 "nbformat": 4,
 "nbformat_minor": 5
}
