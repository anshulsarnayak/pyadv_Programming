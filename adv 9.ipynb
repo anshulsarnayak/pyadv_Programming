{
 "cells": [
  {
   "cell_type": "code",
   "execution_count": 20,
   "id": "eec4a989",
   "metadata": {},
   "outputs": [
    {
     "data": {
      "text/plain": [
       "'102:40:18'"
      ]
     },
     "execution_count": 20,
     "metadata": {},
     "output_type": "execute_result"
    }
   ],
   "source": [
    "\"\"\"1. YouTube offers different playback speed options for users.\n",
    "This allows users to increase or decrease the speed of the video content. \n",
    "Given the actual duration and playback speed of the video, calculate the playback duration of the video.\n",
    "Examples\n",
    "playback_duration(\"00:30:00\", 2) ➞ \"00:15:00\"\n",
    "playback_duration(\"01:20:00\", 1.5) ➞ \"00:53:20\"\n",
    "playback_duration(\"51:20:09\", 0.5) ➞ \"102:40:18\"\n",
    "\"\"\"\n",
    "def playback_duration(s,n):\n",
    "    s=s.split(sep=\":\")\n",
    "    tot_s=0\n",
    "    tot_s=tot_s + int(s[0])*60*60\n",
    "    tot_s=tot_s + int(s[1])*60\n",
    "    tot_s=tot_s + int(s[2])\n",
    "    d=[0,0,0]\n",
    "    \n",
    "    play_speed=tot_s/n\n",
    "    if play_speed>=3600:\n",
    "        d[0]= int(play_speed/3600 )\n",
    "        play_speed=play_speed%3600\n",
    "        \n",
    "    if play_speed>=60:\n",
    "        d[1]= int(play_speed/60 )\n",
    "        play_speed=play_speed%60\n",
    "    \n",
    "    if play_speed<60:\n",
    "        d[2] = int(play_speed)\n",
    "    \n",
    "    return \"{}:{}:{}\".format(d[0],d[1],d[2])\n",
    "\n",
    "playback_duration(\"51:20:09\", 0.5)"
   ]
  },
  {
   "cell_type": "code",
   "execution_count": 55,
   "id": "54ac30f8",
   "metadata": {},
   "outputs": [
    {
     "data": {
      "text/plain": [
       "2022"
      ]
     },
     "execution_count": 55,
     "metadata": {},
     "output_type": "execute_result"
    }
   ],
   "source": [
    "\"\"\"\n",
    "2. We needs your help to construct a building which will be a pile of n cubes.\n",
    "The cube at the bottom will have a volume of n^3, the cube above will have volume of (n-1)^3 and\n",
    "so on until the top which will have a volume of 1^3.\n",
    "Given the total volume m of the building, can you find the number of cubes n required for the building?\n",
    "In other words, you have to return an integer n such that:\n",
    "n^3 + (n-1)^3 + ... + 1^3 == m\n",
    "Return None if there is no such number.\n",
    "Examples\n",
    "pile_of_cubes(1071225) ➞ 45\n",
    "pile_of_cubes(4183059834009) ➞ 2022\n",
    "pile_of_cubes(16) ➞ None\n",
    "\"\"\"\n",
    "def pile_of_cubes(num):\n",
    "    for n in range(1,2500):\n",
    "        m=0\n",
    "        for i in range(n,0,-1):\n",
    "            m=m+i**3\n",
    "\n",
    "        if num==m:\n",
    "            return n\n",
    "    else:\n",
    "        return \"None\"\n",
    "    \n",
    "pile_of_cubes(4183059834009) "
   ]
  },
  {
   "cell_type": "code",
   "execution_count": 78,
   "id": "6d9b6ca1",
   "metadata": {},
   "outputs": [
    {
     "data": {
      "text/plain": [
       "0"
      ]
     },
     "execution_count": 78,
     "metadata": {},
     "output_type": "execute_result"
    }
   ],
   "source": [
    "\"\"\"3. A fulcrum of a list is an integer such that all elements to the left of it and all elements to the right of \n",
    "it sum to the same value. Write a function that finds the fulcrum of a list.\n",
    "To illustrate:\n",
    "find_fulcrum([3, 1, 5, 2, 4, 6, -1]) ➞ 2\n",
    "// Since [3, 1, 5] and [4, 6, -1] both sum to 9\n",
    "Examples\n",
    "find_fulcrum([1, 2, 4, 9, 10, -10, -9, 3]) ➞ 4\n",
    "find_fulcrum([9, 1, 9]) ➞ 1\n",
    "find_fulcrum([7, -1, 0, -1, 1, 1, 2, 3]) ➞ 0\n",
    "find_fulcrum([8, 8, 8, 8]) ➞ -1\"\"\"\n",
    "def find_fulcrum(l):\n",
    "    c=0\n",
    "    for i in l:\n",
    "        \n",
    "        r_tot=0\n",
    "        for j in l[:c]:\n",
    "            r_tot=r_tot+j\n",
    "\n",
    "        l_tot=0    \n",
    "        for j in l[c+1:]:\n",
    "            l_tot=l_tot+j\n",
    "                \n",
    "        if r_tot == l_tot:        \n",
    "            return i\n",
    "        c=c+1\n",
    "        \n",
    "    else:\n",
    "        return -1\n",
    "        \n",
    "find_fulcrum([7, -1, 0, -1, 1, 1, 2, 3]) "
   ]
  },
  {
   "cell_type": "code",
   "execution_count": 94,
   "id": "d5c574b3",
   "metadata": {},
   "outputs": [
    {
     "data": {
      "text/plain": [
       "3"
      ]
     },
     "execution_count": 94,
     "metadata": {},
     "output_type": "execute_result"
    }
   ],
   "source": [
    "\"\"\"\n",
    "4. Given a list of integers representing the color of each sock, determine how many pairs of socks with matching colors\n",
    "there are. For example, there are 7 socks with colors [1, 2, 1, 2, 1, 3, 2].\n",
    "There is one pair of color 1 and one of color 2. There are three odd socks left, one of each color. The number of pairs is 2.\n",
    "Create a function that returns an integer representing the number of matching pairs of socks that are available.\n",
    "Examples\n",
    "sock_merchant([10, 20, 20, 10, 10, 30, 50, 10, 20]) ➞ 3\n",
    "sock_merchant([50, 20, 30, 90, 30, 20, 50, 20, 90]) ➞ 4\n",
    "sock_merchant([]) ➞ 0\n",
    "\"\"\"\n",
    "def sock_merchant(l):\n",
    "    s=set(l)\n",
    "    match=0\n",
    "    for i in s:\n",
    "        if l.count(i)>1:\n",
    "                match=match+int(l.count(i)/2)\n",
    "    return match\n",
    "\n",
    "sock_merchant([10, 20, 20, 10, 10, 30, 50, 10, 20])"
   ]
  },
  {
   "cell_type": "code",
   "execution_count": 137,
   "id": "e3e80365",
   "metadata": {},
   "outputs": [
    {
     "data": {
      "text/plain": [
       "23"
      ]
     },
     "execution_count": 137,
     "metadata": {},
     "output_type": "execute_result"
    }
   ],
   "source": [
    "\"\"\"\n",
    "5. Create a function that takes a string containing integers as well as other characters and return the sum of the negative\n",
    "integers only.\n",
    "Examples\n",
    "negative_sum(\"-12 13%14&-11\") ➞ -23\n",
    "# -12 + -11 = -23\n",
    "negative_sum(\"22 13%14&-11-22 13 12\") ➞ -33\n",
    "# -11 + -22 = -33\"\"\"\n",
    "\n",
    "def negative_sum(s):\n",
    "    a=\"!@#$%^&* \"\n",
    "    \n",
    "    for i in s:\n",
    "        if i in a:\n",
    "            s=s.split(i)\n",
    "            d=\"\"\n",
    "            for j in s:\n",
    "                d=d+str(j)\n",
    "            s=d\n",
    "        if i in \"-\":\n",
    "            l=s.split('-')\n",
    "    tot=0\n",
    "    if l[0]==\" \":\n",
    "        tot=tot+int(l[1][:2])\n",
    "\n",
    "    for i in range(1,len(l)):\n",
    "        if len(l[i])==2:\n",
    "            tot=tot+int(l[i])\n",
    "        else:\n",
    "            tot=tot+int(l[i][0:2])\n",
    "            \n",
    "    return tot\n",
    "\n",
    "negative_sum(\"-12 13%14&-11\")"
   ]
  }
 ],
 "metadata": {
  "kernelspec": {
   "display_name": "Python 3",
   "language": "python",
   "name": "python3"
  },
  "language_info": {
   "codemirror_mode": {
    "name": "ipython",
    "version": 3
   },
   "file_extension": ".py",
   "mimetype": "text/x-python",
   "name": "python",
   "nbconvert_exporter": "python",
   "pygments_lexer": "ipython3",
   "version": "3.8.8"
  }
 },
 "nbformat": 4,
 "nbformat_minor": 5
}
