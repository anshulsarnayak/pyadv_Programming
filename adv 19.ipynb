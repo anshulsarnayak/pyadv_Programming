{
 "cells": [
  {
   "cell_type": "code",
   "execution_count": 24,
   "id": "0a82c667",
   "metadata": {},
   "outputs": [
    {
     "data": {
      "text/plain": [
       "[['A', 'B', 'A', 'B', 'A'],\n",
       " ['B', 'A', 'B', 'A', 'B'],\n",
       " ['A', 'B', 'A', 'B', 'A'],\n",
       " ['B', 'A', 'B', 'A', 'B'],\n",
       " ['A', 'B', 'A', 'B', 'A']]"
      ]
     },
     "execution_count": 24,
     "metadata": {},
     "output_type": "execute_result"
    }
   ],
   "source": [
    "\"\"\"1. Create a checker board generator, which takes as inputs n and 2 elements to generate an n x n checkerboard with those two \n",
    "elements as alternating squares.\n",
    "Examples\n",
    "checker_board(2, 7, 6) ➞ [\n",
    "  [7, 6],\n",
    "  [6, 7]\n",
    "]\n",
    "checker_board(3, \"A\", \"B\") ➞ [\n",
    "  [\"A\", \"B\", \"A\"],\n",
    "  [\"B\", \"A\", \"B\"],\n",
    "  [\"A\", \"B\", \"A\"]\n",
    "]\n",
    "checker_board(4, \"c\", \"d\") ➞ [\n",
    "  [\"c\", \"d\", \"c\", \"d\"],\n",
    "  [\"d\", \"c\", \"d\", \"c\"],\n",
    "  [\"c\", \"d\", \"c\", \"d\"],\n",
    "  [\"d\", \"c\", \"d\", \"c\"]\n",
    "]\n",
    "checker_board(4, \"c\", \"c\") ➞ \"invalid\"\n",
    "\"\"\"\n",
    "def checker_board(n,a,b):\n",
    "    if a==b :\n",
    "        return \"invalid\"\n",
    "    else:\n",
    "        c=[];e=[]\n",
    "        if n%2 ==0:\n",
    "            for i in range(n*n//2):\n",
    "                e.append(a)\n",
    "                e.append(b)\n",
    "        else:\n",
    "            for i in range(n*n//2):\n",
    "                e.append(a)\n",
    "                e.append(b)\n",
    "            e.append(a)\n",
    "\n",
    "        num=0\n",
    "        for i in range(n):\n",
    "            d=[]\n",
    "            for j in range(n):\n",
    "                d.append(e[num]) \n",
    "                num=num+1\n",
    "            c.append(d)\n",
    "        return c\n",
    "    \n",
    "checker_board(5, \"A\", \"B\")"
   ]
  },
  {
   "cell_type": "code",
   "execution_count": 40,
   "id": "8cae9c98",
   "metadata": {},
   "outputs": [
    {
     "data": {
      "text/plain": [
       "True"
      ]
     },
     "execution_count": 40,
     "metadata": {},
     "output_type": "execute_result"
    }
   ],
   "source": [
    "\"\"\"\n",
    "2. A string is an almost-palindrome if, by changing only one character, you can make it a palindrome. Create a function that\n",
    "returns True if a string is an almost-palindrome and False otherwise.\n",
    "Examples\n",
    "almost_palindrome(\"abcdcbg\") ➞ True\n",
    "# Transformed to \"abcdcba\" by changing \"g\" to \"a\".\n",
    "almost_palindrome(\"abccia\") ➞ True\n",
    "# Transformed to \"abccba\" by changing \"i\" to \"b\".\n",
    "almost_palindrome(\"abcdaaa\") ➞ False\n",
    "# Can't be transformed to a palindrome in exactly 1 turn.\n",
    "almost_palindrome(\"1234312\") ➞ False\n",
    "\"\"\"\n",
    "def almost_palindrome(s):\n",
    "    if len(s)%2 !=0:\n",
    "        s=s.replace(s[(len(s)//2)],'')\n",
    "        \n",
    "    not_eq=0\n",
    "    for i in range(len(s)//2):\n",
    "        if s[:len(s)//2] [i] != s[(len(s)//2):] [-1-i]:\n",
    "            not_eq=not_eq+1\n",
    "\n",
    "    if not_eq == 1:\n",
    "        return True\n",
    "    else:\n",
    "        return False\n",
    "\n",
    "almost_palindrome(\"abcdcbg\")"
   ]
  },
  {
   "cell_type": "code",
   "execution_count": 46,
   "id": "cf722cb7",
   "metadata": {},
   "outputs": [
    {
     "data": {
      "text/plain": [
       "10"
      ]
     },
     "execution_count": 46,
     "metadata": {},
     "output_type": "execute_result"
    }
   ],
   "source": [
    "\"\"\"\n",
    "3. Create a function that finds how many prime numbers there are, up to the given integer.\n",
    "Examples\n",
    "prime_numbers(10) ➞ 4\n",
    "# 2, 3, 5 and 7\n",
    "prime_numbers(20) ➞ 8\n",
    "# 2, 3, 5, 7, 11, 13, 17 and 19\n",
    "prime_numbers(30) ➞ 10\n",
    "# 2, 3, 5, 7, 11, 13, 17, 19, 23 and 29\n",
    "\"\"\"\n",
    "def prime_numbers(n):\n",
    "    \n",
    "    def prime(n):\n",
    "        if n==2 or n==3:\n",
    "            return True\n",
    "        elif n%2==0 or n==1:\n",
    "            return False\n",
    "        else:\n",
    "            for i in range(3,n,2):\n",
    "                if n % i ==0:\n",
    "                    return False\n",
    "            return True\n",
    "    prime_n = 0    \n",
    "    for i in range(n):\n",
    "        if prime(i) == True :\n",
    "            prime_n = prime_n +1\n",
    "    return prime_n\n",
    "\n",
    "prime_numbers(30)      "
   ]
  },
  {
   "cell_type": "code",
   "execution_count": 69,
   "id": "4f3068be",
   "metadata": {},
   "outputs": [
    {
     "data": {
      "text/plain": [
       "['Wednesday', 'Thursday', 'Sunday']"
      ]
     },
     "execution_count": 69,
     "metadata": {},
     "output_type": "execute_result"
    }
   ],
   "source": [
    "\"\"\"\n",
    "4. If today was Monday, in two days, it would be Wednesday.\n",
    "Create a function that takes in a list of days as input and the number of days to increment by. Return a list of days after\n",
    "n number of days has passed.\n",
    "Examples\n",
    "after_n_days([\"Thursday\", \"Monday\"], 4) ➞ [\"Monday\", \"Friday\"]\n",
    "after_n_days([\"Sunday\", \"Sunday\", \"Sunday\"], 1) ➞ [\"Monday\", \"Monday\", \"Monday\"]\n",
    "after_n_days([\"Monday\", \"Tuesday\", \"Friday\"], 1) ➞ [\"Tuesday\", \"Wednesday\", \"Saturday\"]\n",
    "\"\"\"\n",
    "def after_n_days(l,n):\n",
    "    day_l=[\"Monday\", \"Tuesday\",\"Wednesday\",\"Thursday\", \"Friday\", \"Saturday\",\"Sunday\"]\n",
    "    day_l= day_l * (2+int(n/7))\n",
    "\n",
    "    nex = []\n",
    "    for i in l:\n",
    "        for count,j in enumerate(day_l):\n",
    "            if i == j:\n",
    "                nex.append(day_l[count+n])\n",
    "                break\n",
    "    return nex\n",
    "\n",
    "after_n_days([\"Monday\", \"Tuesday\", \"Friday\"], 2)  "
   ]
  },
  {
   "cell_type": "code",
   "execution_count": 71,
   "id": "876beed3",
   "metadata": {},
   "outputs": [
    {
     "data": {
      "text/plain": [
       "True"
      ]
     },
     "execution_count": 71,
     "metadata": {},
     "output_type": "execute_result"
    }
   ],
   "source": [
    "\"\"\"\n",
    "5. You are in the process of creating a chat application and want to add an anonymous name feature. This anonymous name \n",
    "feature will create an alias that consists of two capitalized words beginning with the same letter as the users first name.\n",
    "Create a function that determines if the list of users is mapped to a list of anonymous names correctly.\n",
    "Examples\n",
    "is_correct_aliases([\"Adrian M.\", \"Harriet S.\", \"Mandy T.\"], [\"Amazing Artichoke\", \"Hopeful Hedgehog\", \"Marvelous Mouse\"]) \n",
    "➞ True\n",
    "is_correct_aliases([\"Rachel F.\", \"Pam G.\", \"Fred Z.\", \"Nancy K.\"], [\"Reassuring Rat\", \"Peaceful Panda\", \"Fantastic Frog\", \n",
    "\"Notable Nickel\"]) ➞ True\n",
    "is_correct_aliases([\"Beth T.\"], [\"Brandishing Mimosa\"]) ➞ False\n",
    "# Both words in \"Brandishing Mimosa\" should begin with a \"B\" - \"Brandishing Beaver\" would do the trick.\n",
    "\"\"\"\n",
    "def is_correct_aliases(l,m):\n",
    "    for i in l:\n",
    "        for j in m:\n",
    "            j=j.split(sep=\" \")\n",
    "            if i[0] == j[0][0] and i[0] == j[1][0]:\n",
    "                return True\n",
    "    return False\n",
    "\n",
    "is_correct_aliases([\"Adrian M.\", \"Harriet S.\", \"Mandy T.\"], [\"Amazing Artichoke\", \"Hopeful Hedgehog\", \"Marvelous Mouse\"]) "
   ]
  }
 ],
 "metadata": {
  "kernelspec": {
   "display_name": "Python 3",
   "language": "python",
   "name": "python3"
  },
  "language_info": {
   "codemirror_mode": {
    "name": "ipython",
    "version": 3
   },
   "file_extension": ".py",
   "mimetype": "text/x-python",
   "name": "python",
   "nbconvert_exporter": "python",
   "pygments_lexer": "ipython3",
   "version": "3.8.8"
  }
 },
 "nbformat": 4,
 "nbformat_minor": 5
}
