{
 "cells": [
  {
   "cell_type": "code",
   "execution_count": 4,
   "id": "c0267a19",
   "metadata": {},
   "outputs": [
    {
     "data": {
      "text/plain": [
       "31499"
      ]
     },
     "execution_count": 4,
     "metadata": {},
     "output_type": "execute_result"
    }
   ],
   "source": [
    "\"\"\"\n",
    "1. For this challenge, forget how to add two numbers together. The best explanation on what to do for this function\n",
    "is this meme:\n",
    "Examples\n",
    "meme_sum(26, 39) ➞ 515\n",
    "# 2+3 = 5, 6+9 = 15\n",
    "# 26 + 39 = 515\n",
    "meme_sum(122, 81) ➞ 1103\n",
    "# 1+0 = 1, 2+8 = 10, 2+1 = 3\n",
    "# 122 + 81 = 1103\n",
    "meme_sum(1222, 30277) ➞ 31499\"\"\"\n",
    "def meme_sum(a,b):\n",
    "    a=str(a)\n",
    "    b=str(b)\n",
    "    c=\"\"\n",
    "    if len(a)==len(b):\n",
    "        for i in range(len(b)):\n",
    "            c=c+str(int(a[i])+int(b[i]))\n",
    "    else:\n",
    "        m=max(len(a),len(b))\n",
    "        if len(a)==m:\n",
    "            b=(m-len(b))*\"0\"+b\n",
    "        else:\n",
    "            a=(m-len(a))*\"0\"+a\n",
    "        for i in range(len(b)):\n",
    "            c=c+str(int(a[i])+int(b[i]))\n",
    "    return int(c)  \n",
    "\n",
    "meme_sum(1222, 30277) "
   ]
  },
  {
   "cell_type": "code",
   "execution_count": 24,
   "id": "6f66da0c",
   "metadata": {},
   "outputs": [
    {
     "data": {
      "text/plain": [
       "29"
      ]
     },
     "execution_count": 24,
     "metadata": {},
     "output_type": "execute_result"
    }
   ],
   "source": [
    "\"\"\"2. Given an integer, create a function that returns the next prime. If the number is prime, return the number itself.\n",
    "Examples\n",
    "next_prime(12) ➞ 13\n",
    "next_prime(24) ➞ 29\n",
    "next_prime(11) ➞ 11\n",
    "# 11 is a prime, so we return the number itself.\n",
    "\"\"\"\n",
    "def next_prime(n):\n",
    "    def prime(n):\n",
    "        if n==2 or n==3:\n",
    "            return True\n",
    "        elif n%2==0:\n",
    "            return False\n",
    "        else:\n",
    "            for i in range(3,n,2):\n",
    "                if n%i==0:\n",
    "                    return False\n",
    "            return True\n",
    "    if prime(n)== True:\n",
    "        return n\n",
    "    else:\n",
    "        for i in range(n,n+1500):\n",
    "            if prime(i)==True:\n",
    "                return i\n",
    "            \n",
    "next_prime(24)"
   ]
  },
  {
   "cell_type": "code",
   "execution_count": 3,
   "id": "c01b34a9",
   "metadata": {},
   "outputs": [
    {
     "data": {
      "text/plain": [
       "15.0"
      ]
     },
     "execution_count": 3,
     "metadata": {},
     "output_type": "execute_result"
    }
   ],
   "source": [
    "\"\"\"\n",
    "3. If a person traveled up a hill for 18mins at 20mph and then traveled back down the same path at 60mph then\n",
    "their average speed traveled was 30mph.\n",
    "Write a function that returns the average speed traveled given an uphill time, uphill rate and a downhill rate.\n",
    "Uphill time is given in minutes. Return the rate as an integer (mph). No rounding is necessary.\n",
    "Examples\n",
    "ave_spd(18, 20, 60) ➞ 30\n",
    "ave_spd(30, 10, 30) ➞ 15\n",
    "ave_spd(30, 8, 24) ➞ 12\"\"\"\n",
    "def ave_spd(minute,sp1,sp2):\n",
    "    hr1=minute/60\n",
    "    meter=sp1*hr1\n",
    "    hr2=meter/sp2\n",
    "    avg=2*meter/(hr1+hr2)\n",
    "    return avg\n",
    "\n",
    "ave_spd(30, 10, 30)"
   ]
  },
  {
   "cell_type": "code",
   "execution_count": 49,
   "id": "8c432b8a",
   "metadata": {},
   "outputs": [
    {
     "data": {
      "text/plain": [
       "5"
      ]
     },
     "execution_count": 49,
     "metadata": {},
     "output_type": "execute_result"
    }
   ],
   "source": [
    "\"\"\"4. The Kempner Function, applied to a composite number, permits to find the smallest integer greater than zero whose\n",
    "factorial is exactly divided by the number.\n",
    "kempner(6) ➞ 3\n",
    "1! = 1 % 6 > 0\n",
    "2! = 2 % 6 > 0\n",
    "3! = 6 % 6 === 0\n",
    "kempner(10) ➞ 5\n",
    "1! = 1 % 10 > 0\n",
    "2! = 2 % 10 > 0\n",
    "3! = 6 % 10 > 0\n",
    "4! = 24 % 10 > 0\n",
    "5! = 120 % 10 === 0\n",
    "A Kempner Function applied to a prime will always return the prime itself.\n",
    "kempner(2) ➞ 2\n",
    "kempner(5) ➞ 5\n",
    "Given an integer n, implement a Kempner Function.\n",
    "Examples\n",
    "kempner(6) ➞ 3\n",
    "kempner(10) ➞ 5\n",
    "kempner(2) ➞ 2\n",
    "\"\"\"\n",
    "def kempner(num):\n",
    "    def fact(n):\n",
    "        if n==1:\n",
    "            return 1\n",
    "        else:\n",
    "            return n*fact(n-1)\n",
    "    for i in range(1,num):\n",
    "        if fact(i)%num==0:\n",
    "            return i  \n",
    "    return num\n",
    "\n",
    "kempner(10)"
   ]
  },
  {
   "cell_type": "code",
   "execution_count": 52,
   "id": "1e47d209",
   "metadata": {},
   "outputs": [
    {
     "data": {
      "text/plain": [
       "[[2, 1, 2, 5], [4, 3], [6, 1, 1], [9], [3, 2], [8]]"
      ]
     },
     "execution_count": 52,
     "metadata": {},
     "output_type": "execute_result"
    }
   ],
   "source": [
    "\"\"\"\n",
    "5. You work in a factory, and your job is to take items from a conveyor belt and pack them into boxes.\n",
    "Each box can hold a maximum of 10 kgs. Given a list containing the weight (in kg) of each item, how many boxes would \n",
    " you need to pack all of the items?\n",
    "Example\n",
    "boxes([2, 1, 2, 5, 4, 3, 6, 1, 1, 9, 3, 2]) ➞ 5\n",
    "# Box 1 = [2, 1, 2, 5] (10kg)\n",
    "# Box 2 = [4, 3] (7kg)\n",
    "# Box 3 = [6, 1, 1] (8kg)\n",
    "# Box 4 = [9] (9kg)\n",
    "# Box 5 = [3, 2] (5kg)\"\"\"\n",
    "def boxes(l):\n",
    "    def tot(j):\n",
    "        tot=0\n",
    "        for i in d:\n",
    "            tot=tot+i\n",
    "        return tot\n",
    "\n",
    "    a=[];b=[];c=[];e=[];f=[];g=[];h=[];i=[]\n",
    "    k=[a,b,c,e,f,g,h,i]\n",
    "    for d in k:\n",
    "        c=0\n",
    "        for i in l:\n",
    "            d.append(i)\n",
    "            if tot(i)>10:\n",
    "                d.pop()\n",
    "                c=c-1\n",
    "                break\n",
    "            elif tot(i)==10:\n",
    "                break\n",
    "            c=c+1\n",
    "        l=l[c+1:]\n",
    "    \n",
    "    for i in k:\n",
    "        if i==[]:\n",
    "            k.remove(i)\n",
    "    k.pop()\n",
    "    return k\n",
    "\n",
    "boxes([2, 1, 2, 5, 4, 3, 6, 1, 1, 9, 3, 2,8])"
   ]
  }
 ],
 "metadata": {
  "kernelspec": {
   "display_name": "Python 3",
   "language": "python",
   "name": "python3"
  },
  "language_info": {
   "codemirror_mode": {
    "name": "ipython",
    "version": 3
   },
   "file_extension": ".py",
   "mimetype": "text/x-python",
   "name": "python",
   "nbconvert_exporter": "python",
   "pygments_lexer": "ipython3",
   "version": "3.8.8"
  }
 },
 "nbformat": 4,
 "nbformat_minor": 5
}
