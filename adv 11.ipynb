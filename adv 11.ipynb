{
 "cells": [
  {
   "cell_type": "code",
   "execution_count": 11,
   "id": "59827981",
   "metadata": {},
   "outputs": [
    {
     "data": {
      "text/plain": [
       "[1009, 3, 61, 1087, 1091, 1093, 1097]"
      ]
     },
     "execution_count": 11,
     "metadata": {},
     "output_type": "execute_result"
    }
   ],
   "source": [
    "\"\"\"1. Create a function that takes a list and returns a new list containing only prime numbers.\n",
    "Examples\n",
    "filter_primes([7, 9, 3, 9, 10, 11, 27]) ➞ [7, 3, 11]\n",
    "filter_primes([10007, 1009, 1007, 27, 147, 77, 1001, 70]) ➞ [10007, 1009]\n",
    "filter_primes([1009, 10, 10, 10, 3, 33, 9, 4, 1, 61, 63, 69, 1087, 1091, 1093, 1097]) ➞ [1009, 3, 61, 1087, 1091, 1093, 1097]\n",
    "\"\"\"\n",
    "def filter_primes(l):\n",
    "    def prime(x):\n",
    "        if x==2 :\n",
    "            return True\n",
    "        elif x==3:\n",
    "            return True\n",
    "        else :\n",
    "            if x % 2==0:\n",
    "                return False\n",
    "            else:\n",
    "                for i in range(3,x,2):\n",
    "                    if x%i !=0:\n",
    "                        return True\n",
    "                    else:\n",
    "                        return False\n",
    "    d=[]\n",
    "    for i in l:\n",
    "        if prime(i)==True:\n",
    "            d.append(i)\n",
    "    return d\n",
    "\n",
    "filter_primes([1009, 10, 10, 10, 3, 33, 9, 4, 1, 61, 63, 69, 1087, 1091, 1093, 1097])"
   ]
  },
  {
   "cell_type": "code",
   "execution_count": 10,
   "id": "fde73817",
   "metadata": {},
   "outputs": [
    {
     "data": {
      "text/plain": [
       "[0, 1, 2, 3, 4, 3, 2, 1, 0]"
      ]
     },
     "execution_count": 10,
     "metadata": {},
     "output_type": "execute_result"
    }
   ],
   "source": [
    "\"\"\"2. Once a water balloon pops, is soaks the area around it.\n",
    "The ground gets drier the further away you travel from the balloon.\n",
    "The effect of a water balloon popping can be modeled using a list.\n",
    "Create a function that takes a list which takes the pre-pop state and returns the state after the balloon is popped. \n",
    "The pre-pop state will contain at most a single balloon, whose size is represented by the only non-zero element.\n",
    "Examples\n",
    "pop([0, 0, 0, 0, 4, 0, 0, 0, 0]) ➞ [0, 1, 2, 3, 4, 3, 2, 1, 0]\n",
    "pop([0, 0, 0, 3, 0, 0, 0]) ➞ [0, 1, 2, 3, 2, 1, 0]\n",
    "pop([0, 0, 2, 0, 0]) ➞ [0, 1, 2, 1, 0]\n",
    "pop([0]) ➞ [0]\n",
    "\"\"\"\n",
    "def pop(l):\n",
    "    if len(l)==1 and l[0]==0:\n",
    "        return l\n",
    "    else:\n",
    "        for i in l :\n",
    "            if i>0:\n",
    "                c=i\n",
    "        d=[]\n",
    "        for i in range(c):\n",
    "            d.append(i)\n",
    "        for i in range(c,-1,-1):\n",
    "            d.append(i)\n",
    "        return d\n",
    "\n",
    "pop([0, 0, 0, 0, 4, 0, 0, 0, 0])"
   ]
  },
  {
   "cell_type": "code",
   "execution_count": 30,
   "id": "1800e112",
   "metadata": {},
   "outputs": [
    {
     "data": {
      "text/plain": [
       "'Loves me, Loves me not, Loves me, Loves me not, Loves me, Loves me not, LOVES ME'"
      ]
     },
     "execution_count": 30,
     "metadata": {},
     "output_type": "execute_result"
    }
   ],
   "source": [
    "\"\"\"\n",
    "3. \"Loves me, loves me not\" is a traditional game in which a person plucks off all the petals of a flower one by one,\n",
    "saying the phrase \"Loves me\" and \"Loves me not\" when determining whether the one that they love, loves them back.\n",
    "Given a number of petals, return a string which repeats the phrases \"Loves me\" and \"Loves me not\" for every alternating petal,\n",
    "and return the last phrase in all caps. Remember to put a comma and space between phrases.\n",
    "Examples\n",
    "loves_me(3) ➞ \"Loves me, Loves me not, LOVES ME\"\n",
    "loves_me(6) ➞ \"Loves me, Loves me not, Loves me, Loves me not, Loves me, LOVES ME NOT\"\n",
    "loves_me(1) ➞ \"LOVES ME\"\n",
    "\"\"\"\n",
    "def loves_me(n):\n",
    "    a=\"Loves me\"\n",
    "    b=\"Loves me not\"\n",
    "    s=[]\n",
    "    for i in range(n):\n",
    "        if i in range(0,n,2):\n",
    "            s.append(a)\n",
    "        else:\n",
    "            s.append(b)\n",
    "\n",
    "    s[-1]=s[-1].upper()\n",
    "    d=\"\"\n",
    "    c=1\n",
    "    for i in s:\n",
    "        if c == len(s):\n",
    "            d=d+\" \"+i\n",
    "        elif c== 1:\n",
    "            d=d+i+\",\"\n",
    "            c=c+1\n",
    "        else:    \n",
    "            d=d+\" \"+i+\",\"\n",
    "            c=c+1\n",
    "    return d\n",
    "\n",
    "loves_me(7)"
   ]
  },
  {
   "cell_type": "code",
   "execution_count": 1,
   "id": "6f561b63",
   "metadata": {},
   "outputs": [
    {
     "data": {
      "text/plain": [
       "['304q2', '5y5', '572z']"
      ]
     },
     "execution_count": 1,
     "metadata": {},
     "output_type": "execute_result"
    }
   ],
   "source": [
    "\"\"\"\n",
    "4. Write a function that sorts each string in a list by the letter in alphabetic ascending order (a-z).\n",
    "Examples\n",
    "sort_by_letter([\"932c\", \"832u32\", \"2344b\"])\n",
    "➞ [\"2344b\", \"932c\", \"832u32\"]\n",
    "sort_by_letter([\"99a\", \"78b\", \"c2345\", \"11d\"])\n",
    "➞ [\"99a\", \"78b\", \"c2345\", \"11d\"]\n",
    "sort_by_letter([\"572z\", \"5y5\", \"304q2\"])\n",
    "➞ [\"304q2\", \"5y5\", \"572z\"]\n",
    "sort_by_letter([])\n",
    "➞ []\n",
    "\"\"\"\n",
    "def sort_by_letter(l):\n",
    "    d={}\n",
    "    for i in l:\n",
    "        for j in i:\n",
    "            if j.isalpha()==True:\n",
    "                d[j]=i\n",
    "    m=[]            \n",
    "    for i in sorted(d):\n",
    "        m.append(d[i])\n",
    "    return m\n",
    "\n",
    "sort_by_letter([\"572z\", \"5y5\", \"304q2\"])"
   ]
  },
  {
   "cell_type": "code",
   "execution_count": 15,
   "id": "6466a781",
   "metadata": {},
   "outputs": [
    {
     "data": {
      "text/plain": [
       "'A'"
      ]
     },
     "execution_count": 15,
     "metadata": {},
     "output_type": "execute_result"
    }
   ],
   "source": [
    "\"\"\"\n",
    "5. There are three cups on a table, at positions A, B, and C. At the start, there is a ball hidden under the cup at position B.\n",
    "However, I perform several swaps on the cups, which is notated as two letters. \n",
    "For example, if I swap the cups at positions A and B, I could notate this as AB or BA.\n",
    "Create a function that returns the letter position that the ball is at, once I finish swapping the cups. \n",
    "The swaps will be given to you as a list.\n",
    "Example\n",
    "cup_swapping([\"AB\", \"CA\", \"AB\"]) ➞ \"C\"\n",
    "# Ball begins at position B.\n",
    "# Cups A and B swap, so the ball is at position A.\n",
    "# Cups C and A swap, so the ball is at position C.\n",
    "# Cups A and B swap, but the ball is at position C, so it doesn't move.\n",
    "\"\"\"\n",
    "def cup_swapping(l):\n",
    "    d={'A':0,'B':0,'C':0}\n",
    "    d[l[0][-1]]=1\n",
    "    for i in l:\n",
    "        if i==\"AB\" or i==\"BA\":\n",
    "            if d['B']==1:\n",
    "                d['A']=1\n",
    "                d['B']=0\n",
    "            elif d[\"A\"]==1:\n",
    "                d[\"A\"]=0\n",
    "                d['B']=1\n",
    "                d['C']=0\n",
    "        if i==\"CA\" or i==\"AC\":\n",
    "            if d['C']==1:\n",
    "                d['A']=1\n",
    "                d['C']=0\n",
    "            elif d['A']==1:\n",
    "                d[\"A\"]=0\n",
    "                d['C']=1\n",
    "                d['B']=0 \n",
    "        if i==\"CB\" or i==\"BC\":\n",
    "            if d['C']==1:\n",
    "                d['B']=1\n",
    "                d['C']=0\n",
    "            elif d['B']==1:\n",
    "                d[\"B\"]=0\n",
    "                d['C']=1\n",
    "                d['A']=0\n",
    "    for i in d:\n",
    "        if d[i]==1:\n",
    "            return i\n",
    "        \n",
    "cup_swapping([\"AB\", \"CA\", \"AB\",\"AC\"]) "
   ]
  }
 ],
 "metadata": {
  "kernelspec": {
   "display_name": "Python 3",
   "language": "python",
   "name": "python3"
  },
  "language_info": {
   "codemirror_mode": {
    "name": "ipython",
    "version": 3
   },
   "file_extension": ".py",
   "mimetype": "text/x-python",
   "name": "python",
   "nbconvert_exporter": "python",
   "pygments_lexer": "ipython3",
   "version": "3.8.8"
  }
 },
 "nbformat": 4,
 "nbformat_minor": 5
}
