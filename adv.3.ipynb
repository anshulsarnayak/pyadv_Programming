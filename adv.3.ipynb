{
 "cells": [
  {
   "cell_type": "code",
   "execution_count": 6,
   "metadata": {},
   "outputs": [
    {
     "name": "stdout",
     "output_type": "stream",
     "text": [
      "-1\n"
     ]
    },
    {
     "data": {
      "text/plain": [
       "168"
      ]
     },
     "execution_count": 6,
     "metadata": {},
     "output_type": "execute_result"
    }
   ],
   "source": [
    "\"\"\"\n",
    "1. Create a function to perform basic arithmetic operations that includes addition, subtraction, multiplication and division \n",
    "on a string number (e.g. \"12 + 24\" or \"23 - 21\" or \"12 // 12\" or \"12 * 21\").\n",
    "Here, we have 1 followed by a space, operator followed by another space and 2. \n",
    "For the challenge, we are going to have only two numbers between 1 valid operator. The return value should be a number.\n",
    "eval() is not allowed. In case of division, whenever the second number equals \"0\" return -1.\n",
    "For example:\n",
    "\"15 // 0\"  ➞ -1\n",
    "Examples\n",
    "arithmetic_operation('12+12') ➞ 24 // 12 + 12 = 24\n",
    "arithmetic_operation(\"12 - 12\") ➞ 24 // 12 - 12 = 0\n",
    "arithmetic_operation(\"12 * 12\") ➞ 144 // 12 * 12 = 144\n",
    "arithmetic_operation(\"12 // 0\") ➞ -1 // 12 / 0 = -1\n",
    "\"\"\"\n",
    "def arithmetic_operation(s):\n",
    "    l=['+','*','-','//']\n",
    "    def add(a,b):\n",
    "        return a+b\n",
    "    def mul(a,b):\n",
    "        return a*b\n",
    "    def sub(a,b):\n",
    "        return a-b\n",
    "    def div(a,b):\n",
    "        if b==0:\n",
    "            return -1\n",
    "        else:\n",
    "            return a//b\n",
    "    for i in l:\n",
    "        if i in s:\n",
    "            s=s.split(sep=i)\n",
    "            d={'+':add(int(s[0]),int(s[1])) , \"*\" :mul(int(s[0]),int(s[1])) , '-' :sub(int(s[0]),int(s[1])) , \n",
    "               '//' : div(int(s[0]),int(s[1])) }\n",
    "            return d[i]\n",
    "        \n",
    "print(arithmetic_operation(\"12 // 0\"))\n",
    "arithmetic_operation(\"12 * 14\")"
   ]
  },
  {
   "cell_type": "code",
   "execution_count": 9,
   "metadata": {},
   "outputs": [
    {
     "data": {
      "text/plain": [
       "47.08"
      ]
     },
     "execution_count": 9,
     "metadata": {},
     "output_type": "execute_result"
    }
   ],
   "source": [
    "\"\"\"\n",
    "2. Write a function that takes the coordinates of three points in the form of a 2d array and\n",
    "returns the perimeter of the triangle. The given points are the vertices of a triangle on a two-dimensional plane.\n",
    "Examples\n",
    "perimeter( [ [15, 7], [5, 22], [11, 1] ] ) ➞ 47.08\n",
    "perimeter( [ [0, 0], [0, 1], [1, 0] ] ) ➞ 3.42\n",
    "perimeter( [ [-10, -10], [10, 10 ], [-10, 10] ] ) ➞ 68.28\n",
    "\"\"\"\n",
    "import math\n",
    "def perimeter(l):\n",
    "    a=l[1]\n",
    "    b=l[0]\n",
    "    c=l[2]\n",
    "    [x1,y1]=a\n",
    "    [x2,y2]=b\n",
    "    [x3,y3]=c\n",
    "    length_ab = math.sqrt((x2-x1)**2+(y2-y1)**2)\n",
    "    length_ac = math.sqrt((x3-x1)**2+(y3-y1)**2)\n",
    "    length_bc = math.sqrt((x3-x2)**2+(y3-y2)**2)\n",
    "    return round((length_ab+length_ac+length_bc),ndigits=2)\n",
    "\n",
    "perimeter( [ [15, 7], [5, 22], [11, 1] ] ) "
   ]
  },
  {
   "cell_type": "code",
   "execution_count": 14,
   "metadata": {},
   "outputs": [
    {
     "data": {
      "text/plain": [
       "5"
      ]
     },
     "execution_count": 14,
     "metadata": {},
     "output_type": "execute_result"
    }
   ],
   "source": [
    "\"\"\"3. A city skyline can be represented as a 2-D list with 1s representing buildings. \n",
    "In the example below, the height of the tallest building is 4 (second-most right column).\n",
    "[[0, 0, 0, 0, 0, 0],\n",
    "[0, 0, 0, 0, 1, 0],\n",
    "[0, 0, 1, 0, 1, 0],\n",
    "[0, 1, 1, 1, 1, 0],\n",
    "[1, 1, 1, 1, 1, 1]]\n",
    "Create a function that takes a skyline (2-D list of 0's and 1's) and returns the height of the tallest skyscraper.\n",
    "Examples\n",
    "tallest_skyscraper([\n",
    "  [0, 1, 0, 0],\n",
    "  [0, 1, 0, 0],\n",
    "  [0, 1, 1, 0],\n",
    "  [1, 1, 1, 1]\n",
    "]) ➞ 4 \"\"\"\n",
    "def tallest_skyscraper(l):\n",
    "    h=len(l)\n",
    "    for i in l:\n",
    "            if 1 in i:\n",
    "                return h\n",
    "            else:\n",
    "                h=h-1\n",
    "            \n",
    "tallest_skyscraper(\n",
    "[[0, 0, 0, 0, 0, 0],\n",
    "[0, 0, 0, 0, 1, 0],\n",
    "[0, 0, 1, 0, 1, 0],\n",
    "[0, 1, 1, 1, 1, 0],\n",
    "[1, 1, 1, 1, 1, 1],\n",
    "[1, 1, 1, 1, 1, 1]])"
   ]
  },
  {
   "cell_type": "code",
   "execution_count": 27,
   "metadata": {},
   "outputs": [
    {
     "data": {
      "text/plain": [
       "5350"
      ]
     },
     "execution_count": 27,
     "metadata": {},
     "output_type": "execute_result"
    }
   ],
   "source": [
    "\"\"\"\n",
    "4. A financial institution provides professional services to banks and claims charges from the customers based \n",
    "on the number of man-days provided. Internally, it has set a scheme to motivate and reward staff to meet and exceed \n",
    "targeted billable utilization and revenues by paying a bonus for each day claimed from customers in excess of a threshold \n",
    "target.\n",
    "This quarterly scheme is calculated with a threshold target of 32 days per quarter, and the incentive payment for each \n",
    "billable day in excess of such threshold target is shown as follows:\n",
    "Days\t                             Bonus\n",
    "0 to 32 days\t                   Zero\n",
    "33 to 40 days\t         SGD$325 per billable day\n",
    "41 to 48 days\t         SGD$550 per billable day\n",
    "Greater than 48 days      SGD$600 per billable day\n",
    "\n",
    "Please note that incentive payment is calculated progressively. As an example, if an employee reached total billable days of 45\n",
    "in a quarter, his/her incentive payment is computed as follows:\n",
    "32*0 + 8*325 + 5*550 = 5350\n",
    "Write a function to read the billable days of an employee and return the bonus he/she has obtained in that quarter.\n",
    "Examples\n",
    "bonus(15) ➞ 0\n",
    "bonus(37) ➞ 1625\n",
    "bonus(50) ➞ 8200\n",
    "\"\"\"\n",
    "def bonus(n):\n",
    "    l=[]\n",
    "    if n<=32:\n",
    "        return 0\n",
    "    else:\n",
    "        for i in range (n,32,-1):\n",
    "            if i<=40 and i>=32:\n",
    "                l.append(325*(1))\n",
    "            elif i<=48 and i>=40:\n",
    "                l.append(550*(1))\n",
    "            else:\n",
    "                l.append(600*(1))\n",
    "    tot=0\n",
    "    for i in l:\n",
    "        tot=tot+i\n",
    "    return tot\n",
    "\n",
    "bonus(45)"
   ]
  },
  {
   "cell_type": "code",
   "execution_count": 44,
   "metadata": {},
   "outputs": [
    {
     "data": {
      "text/plain": [
       "True"
      ]
     },
     "execution_count": 44,
     "metadata": {},
     "output_type": "execute_result"
    }
   ],
   "source": [
    "\"\"\"\n",
    "5. A number is said to be Disarium if the sum of its digits raised to their respective positions is the number itself.\n",
    "Create a function that determines whether a number is a Disarium or not.\n",
    "Examples\n",
    "is_disarium(75) ➞ False\n",
    "# 7^1 + 5^2 = 7 + 25 = 32\n",
    "is_disarium(135) ➞ True\n",
    "# 1^1 + 3^2 + 5^3 = 1 + 9 + 125 = 135\n",
    "is_disarium(544) ➞ False\n",
    "is_disarium(518) ➞ True\n",
    "is_disarium(466) ➞ False\n",
    "is_disarium(8) ➞ True\n",
    "\"\"\"\n",
    "def is_disarium(n):\n",
    "    n=str(n)\n",
    "    tot=0\n",
    "    for i in range(1,len(n)+1):\n",
    "        tot=tot+int(n[i-1])**i\n",
    "    if tot == int(n):\n",
    "        return True \n",
    "    else :\n",
    "        return False\n",
    "    \n",
    "is_disarium(518)"
   ]
  }
 ],
 "metadata": {
  "kernelspec": {
   "display_name": "Python 3",
   "language": "python",
   "name": "python3"
  },
  "language_info": {
   "codemirror_mode": {
    "name": "ipython",
    "version": 3
   },
   "file_extension": ".py",
   "mimetype": "text/x-python",
   "name": "python",
   "nbconvert_exporter": "python",
   "pygments_lexer": "ipython3",
   "version": "3.8.8"
  }
 },
 "nbformat": 4,
 "nbformat_minor": 4
}
